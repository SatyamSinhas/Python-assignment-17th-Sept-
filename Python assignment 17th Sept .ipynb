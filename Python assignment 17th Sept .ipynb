{
 "cells": [
  {
   "cell_type": "code",
   "execution_count": null,
   "id": "52c6f0ff-e5a5-4461-ba3f-f5c3941d9980",
   "metadata": {},
   "outputs": [],
   "source": [
    "#1Write a Python program to print numbers from 1 to 10 using a for loop.\n"
   ]
  },
  {
   "cell_type": "code",
   "execution_count": 2,
   "id": "79b04b04-890b-47ca-8bc3-36746573562d",
   "metadata": {},
   "outputs": [
    {
     "name": "stdout",
     "output_type": "stream",
     "text": [
      "1\n",
      "2\n",
      "3\n",
      "4\n",
      "5\n",
      "6\n",
      "7\n",
      "8\n",
      "9\n",
      "10\n"
     ]
    }
   ],
   "source": [
    "for i in range(1, 11):\n",
    "    print(i)"
   ]
  },
  {
   "cell_type": "code",
   "execution_count": 3,
   "id": "08cebb10-b669-4d75-a18e-b5e620ea4dab",
   "metadata": {},
   "outputs": [],
   "source": [
    "#2Explain the difference between a for loop and a while loop in Python"
   ]
  },
  {
   "cell_type": "code",
   "execution_count": 7,
   "id": "dd659b04-1ace-4d9e-a4f3-5f4d5ceae7eb",
   "metadata": {},
   "outputs": [
    {
     "data": {
      "text/plain": [
       "'#For Loop\\n1. For loop is used to iterate over a sequence of items.\\n2. For loops are designed for iterating over a sequence of items. Eg. list, tuple, etc.\\n3. For loop require a sequence to iterate over.\\n4. For loop is typically used for iterating over a fixed sequence of items.\\n#While loop\\n1. While loop is used to repeatedly execute a block of statements while a condition is true.\\n2. While loop is used when the number of iterations is not known in advance or when we want to repeat a block of code until a certain condition is met.\\n3. While the loop requires an intial condition that is tested at the beginning of the loop.\\n4. While loop is used for more complex control flow situations.'"
      ]
     },
     "execution_count": 7,
     "metadata": {},
     "output_type": "execute_result"
    }
   ],
   "source": [
    "'''#For Loop\n",
    "1. For loop is used to iterate over a sequence of items.\n",
    "2. For loops are designed for iterating over a sequence of items. Eg. list, tuple, etc.\n",
    "3. For loop require a sequence to iterate over.\n",
    "4. For loop is typically used for iterating over a fixed sequence of items.\n",
    "#While loop\n",
    "1. While loop is used to repeatedly execute a block of statements while a condition is true.\n",
    "2. While loop is used when the number of iterations is not known in advance or when we want to repeat a block of code until a certain condition is met.\n",
    "3. While the loop requires an intial condition that is tested at the beginning of the loop.\n",
    "4. While loop is used for more complex control flow situations.'''"
   ]
  },
  {
   "cell_type": "code",
   "execution_count": 8,
   "id": "f86ae66e-38ec-402e-aade-76997145009f",
   "metadata": {},
   "outputs": [],
   "source": [
    "#3Write a Python program to calculate the sum of all numbers from 1 to 100 using a for loop."
   ]
  },
  {
   "cell_type": "code",
   "execution_count": 10,
   "id": "d12f98ce-ea23-4146-be94-94221c7bcbd2",
   "metadata": {},
   "outputs": [
    {
     "name": "stdout",
     "output_type": "stream",
     "text": [
      "5050\n"
     ]
    }
   ],
   "source": [
    "s=0\n",
    "for i in range(1, 101):\n",
    "    s+= i \n",
    "print(s)"
   ]
  },
  {
   "cell_type": "code",
   "execution_count": 11,
   "id": "3a598931-3d61-45a7-aa80-b0bf23b2a99f",
   "metadata": {},
   "outputs": [],
   "source": [
    "#4How do you iterate through a list using a for loop in Python?\n"
   ]
  },
  {
   "cell_type": "code",
   "execution_count": 12,
   "id": "ab0d1bf4-ef84-4852-b2c3-cb2a7e85312a",
   "metadata": {},
   "outputs": [
    {
     "name": "stdout",
     "output_type": "stream",
     "text": [
      "1\n",
      "2\n",
      "3\n",
      "4\n",
      "5\n"
     ]
    }
   ],
   "source": [
    "my_list = [1, 2, 3, 4, 5]\n",
    "\n",
    "for item in my_list:\n",
    "    print(item)"
   ]
  },
  {
   "cell_type": "code",
   "execution_count": 13,
   "id": "3831426e-51b6-4047-b4fd-ee55a6a59a4e",
   "metadata": {},
   "outputs": [],
   "source": [
    "#5Write a Python program to find the product of all elements in a list using a for loop."
   ]
  },
  {
   "cell_type": "code",
   "execution_count": 17,
   "id": "19bed95a-9d36-4091-b2b1-049a8a2150a0",
   "metadata": {},
   "outputs": [
    {
     "name": "stdout",
     "output_type": "stream",
     "text": [
      "120\n"
     ]
    }
   ],
   "source": [
    "lst = [1, 2, 3, 4, 5]\n",
    "p = 1\n",
    "for num in lst:\n",
    "    p*=num\n",
    "print(p) "
   ]
  },
  {
   "cell_type": "code",
   "execution_count": 19,
   "id": "800425be-c3d2-4f17-bc3c-d25b50f7fb5e",
   "metadata": {},
   "outputs": [],
   "source": [
    "#6Create a Python program that prints all even numbers from 1 to 20 using a for loop."
   ]
  },
  {
   "cell_type": "code",
   "execution_count": 20,
   "id": "07e6e636-2aeb-4f40-a233-351e5feb8816",
   "metadata": {},
   "outputs": [
    {
     "name": "stdout",
     "output_type": "stream",
     "text": [
      "2\n",
      "4\n",
      "6\n",
      "8\n",
      "10\n",
      "12\n",
      "14\n",
      "16\n",
      "18\n",
      "20\n"
     ]
    }
   ],
   "source": [
    "for i in range(1, 21):\n",
    "    if i % 2 == 0:\n",
    "        print(i)"
   ]
  },
  {
   "cell_type": "code",
   "execution_count": 21,
   "id": "f1c9d455-39fb-473d-8c5c-d63f4e904baa",
   "metadata": {},
   "outputs": [],
   "source": [
    "#7Write a Python program that calculates the factorial of a number using a for loop."
   ]
  },
  {
   "cell_type": "code",
   "execution_count": 5,
   "id": "9fe91130-cc03-4554-935e-bf81e5fbbb94",
   "metadata": {},
   "outputs": [
    {
     "name": "stdout",
     "output_type": "stream",
     "text": [
      "3628800\n"
     ]
    }
   ],
   "source": [
    "def fact(f):\n",
    "    re=1\n",
    "    for i in range(1, f+1):\n",
    "        re*=i\n",
    "    return re\n",
    "print(fact(10))"
   ]
  },
  {
   "cell_type": "code",
   "execution_count": null,
   "id": "5cc9940a-31b5-4c93-884e-08f4837fe41d",
   "metadata": {},
   "outputs": [],
   "source": [
    "#8How can you iterate through the characters of a string using a for loop in Python?"
   ]
  },
  {
   "cell_type": "code",
   "execution_count": 9,
   "id": "ce614aed-7165-479b-86b6-5bb0bb5ec357",
   "metadata": {},
   "outputs": [
    {
     "name": "stdout",
     "output_type": "stream",
     "text": [
      "S\n",
      "a\n",
      "t\n",
      "y\n",
      "a\n",
      "m\n"
     ]
    }
   ],
   "source": [
    "stringn = \"Satyam\"\n",
    "for i in stringn:\n",
    "    print(i)"
   ]
  },
  {
   "cell_type": "code",
   "execution_count": 10,
   "id": "16acb8a2-550f-4a27-8b50-f4310f3efae5",
   "metadata": {},
   "outputs": [],
   "source": [
    "#9Write a Python program to find the largest number in a list using a for loop."
   ]
  },
  {
   "cell_type": "code",
   "execution_count": 19,
   "id": "5ea766df-18c8-4135-ad38-28cbce5d46f2",
   "metadata": {},
   "outputs": [
    {
     "name": "stdout",
     "output_type": "stream",
     "text": [
      "8\n"
     ]
    }
   ],
   "source": [
    "lst = [1, 7, 3, 8, 5]\n",
    "for num in lst:\n",
    "    if num > max:\n",
    "        max = num\n",
    "print(max) "
   ]
  },
  {
   "cell_type": "code",
   "execution_count": 20,
   "id": "edcc8536-eb2a-4b07-bcb7-681abbe8e7e0",
   "metadata": {},
   "outputs": [],
   "source": [
    "#10Create a Python program that prints the Fibonacci sequence up to a specified limit using a for loop."
   ]
  },
  {
   "cell_type": "code",
   "execution_count": 15,
   "id": "005dfc81-0662-4261-864e-5ddb7a62b8df",
   "metadata": {},
   "outputs": [
    {
     "name": "stdin",
     "output_type": "stream",
     "text": [
      "Enter the number 100\n"
     ]
    },
    {
     "name": "stdout",
     "output_type": "stream",
     "text": [
      "0\n",
      "1\n",
      "1\n",
      "2\n",
      "3\n",
      "5\n",
      "8\n",
      "13\n",
      "21\n",
      "34\n",
      "55\n",
      "89\n"
     ]
    }
   ],
   "source": [
    "n = int(input(\"Enter the number\"))\n",
    "a=0\n",
    "b=1\n",
    "c=1\n",
    "print(a)\n",
    "while c <=n:\n",
    "    print(c)\n",
    "    c=a+b\n",
    "    a=b\n",
    "    b=c\n",
    "    "
   ]
  },
  {
   "cell_type": "code",
   "execution_count": 16,
   "id": "531c1ffc-aec1-4cdc-85c8-c4c886075994",
   "metadata": {},
   "outputs": [],
   "source": [
    "#11Write a Python program to count the number of vowels in a given string using a for loop."
   ]
  },
  {
   "cell_type": "code",
   "execution_count": 28,
   "id": "2b90a242-c8c8-4422-8032-cab61f86a485",
   "metadata": {},
   "outputs": [
    {
     "name": "stdout",
     "output_type": "stream",
     "text": [
      "5\n"
     ]
    }
   ],
   "source": [
    "s = \"SatyAMEEE\"\n",
    "C=0\n",
    "for i in s:\n",
    "    if i in \"aeiouAEIOU\":\n",
    "        C+=1\n",
    "print(C)\n",
    "        "
   ]
  },
  {
   "cell_type": "code",
   "execution_count": 29,
   "id": "8073805e-85eb-4942-9e3a-a304396cb9aa",
   "metadata": {},
   "outputs": [],
   "source": [
    "#12Create a Python program that generates a multiplication table for a given number using a for loop."
   ]
  },
  {
   "cell_type": "code",
   "execution_count": 4,
   "id": "ecba9246-ab31-4e3d-bae3-b7e204fea190",
   "metadata": {},
   "outputs": [
    {
     "name": "stdin",
     "output_type": "stream",
     "text": [
      "Enter the number 5\n"
     ]
    },
    {
     "name": "stdout",
     "output_type": "stream",
     "text": [
      "5 x 1 = 5\n",
      "5 x 2 = 10\n",
      "5 x 3 = 15\n",
      "5 x 4 = 20\n",
      "5 x 5 = 25\n",
      "5 x 6 = 30\n",
      "5 x 7 = 35\n",
      "5 x 8 = 40\n",
      "5 x 9 = 45\n",
      "5 x 10 = 50\n"
     ]
    }
   ],
   "source": [
    "n = int(input(\"Enter the number\"))\n",
    "for i in range(1,11):\n",
    "    print(f\"{n} x {i} = {n*i}\")"
   ]
  },
  {
   "cell_type": "code",
   "execution_count": 6,
   "id": "0a7051ce-e8be-4d98-8b28-53085b15c437",
   "metadata": {},
   "outputs": [],
   "source": [
    "#13Write a Python program to reverse a list using a for loop."
   ]
  },
  {
   "cell_type": "code",
   "execution_count": 10,
   "id": "41b772f4-0c49-4d40-b16a-3918b628f9fc",
   "metadata": {},
   "outputs": [
    {
     "name": "stdin",
     "output_type": "stream",
     "text": [
      "Enter the list items :  5 6 7\n"
     ]
    },
    {
     "name": "stdout",
     "output_type": "stream",
     "text": [
      "[7, 6, 5]\n"
     ]
    }
   ],
   "source": [
    "lst = [int(item) for item in input(\"Enter the list items : \").split()]\n",
    "rev=[]\n",
    "for num in lst[::-1]:\n",
    "    rev.append(num)\n",
    "print(rev)\n",
    "    "
   ]
  },
  {
   "cell_type": "code",
   "execution_count": 12,
   "id": "3140ae01-3c3a-4d61-bfc3-4a0693871318",
   "metadata": {},
   "outputs": [],
   "source": [
    "#14Write a Python program to find the common elements between two lists using a for loop."
   ]
  },
  {
   "cell_type": "code",
   "execution_count": 5,
   "id": "50f67d90-de26-4823-b830-d8167bb239d9",
   "metadata": {},
   "outputs": [
    {
     "name": "stdin",
     "output_type": "stream",
     "text": [
      "enter 1:  3 5 7 8\n",
      "enter 2: 7 8 5 4\n"
     ]
    },
    {
     "name": "stdout",
     "output_type": "stream",
     "text": [
      "[5, 7, 8]\n"
     ]
    }
   ],
   "source": [
    "lst1 = [int(item) for item in input(\"enter 1:\").split()]\n",
    "lst2 = [int(item) for item in input(\"enter 2:\").split()]\n",
    "com = [ele for ele in lst1 if ele in lst2]\n",
    "print(com)\n",
    "    "
   ]
  },
  {
   "cell_type": "code",
   "execution_count": 6,
   "id": "99e11150-fc8b-4c1d-96af-9c70ab4c5f14",
   "metadata": {},
   "outputs": [],
   "source": [
    "#15Explain how to use a for loop to iterate through the keys and values of a dictionary in Python"
   ]
  },
  {
   "cell_type": "code",
   "execution_count": 3,
   "id": "665d8294-2257-43e0-882c-23e7a8e5d56c",
   "metadata": {},
   "outputs": [
    {
     "name": "stdout",
     "output_type": "stream",
     "text": [
      "State: Gujarat, Capital: Gandhinagar\n",
      "State: Maharastra, Capital: Mumbai\n"
     ]
    }
   ],
   "source": [
    "mydict = {'Gujarat' : 'Gandhinagar', 'Maharastra' : 'Mumbai'}\n",
    "for key, value in mydict.items():\n",
    "    print(f\"State: {key}, Capital: {value}\") "
   ]
  },
  {
   "cell_type": "code",
   "execution_count": 4,
   "id": "8d977c6f-8ff9-4a89-bb1e-cb1ab575e3eb",
   "metadata": {},
   "outputs": [],
   "source": [
    "#16Write a Python program to find the GCD (Greatest Common Divisor) of two numbers using a for loop."
   ]
  },
  {
   "cell_type": "code",
   "execution_count": 3,
   "id": "2e738689-c0b6-42ac-bc76-6da1584b968d",
   "metadata": {},
   "outputs": [
    {
     "name": "stdin",
     "output_type": "stream",
     "text": [
      "Enter the first number :  45\n",
      "Enter the second number :  9\n"
     ]
    },
    {
     "name": "stdout",
     "output_type": "stream",
     "text": [
      "GCD of 45 and 9 is 9\n"
     ]
    }
   ],
   "source": [
    "num1 = int(input(\"Enter the first number : \"))\n",
    "num2 = int(input(\"Enter the second number : \"))\n",
    "for i in range(1, max(num1,num2)):\n",
    "    if num1%i == 0 and num2%i == 0:\n",
    "        gcd=i\n",
    "print(f\"GCD of\", num1, \"and\", num2 ,\"is\", gcd) "
   ]
  },
  {
   "cell_type": "code",
   "execution_count": 4,
   "id": "0f204f2c-943a-4278-9865-b4a199c15416",
   "metadata": {},
   "outputs": [],
   "source": [
    "#17create a Python program that checks if a string is a palindrome using a for loop.\n"
   ]
  },
  {
   "cell_type": "code",
   "execution_count": 41,
   "id": "7c85adf8-a314-4021-8ec0-b98b0c833c9b",
   "metadata": {},
   "outputs": [
    {
     "name": "stdin",
     "output_type": "stream",
     "text": [
      "Enter a string:  saad\n"
     ]
    },
    {
     "name": "stdout",
     "output_type": "stream",
     "text": [
      "saad is not a palindrome\n"
     ]
    }
   ],
   "source": [
    "def is_palindrome(s):\n",
    "    for i in range(len(s) // 2):\n",
    "        if s[i] != s[-1 - i]:\n",
    "            return False\n",
    "    return True\n",
    "\n",
    "s = input(\"Enter a string: \")\n",
    "\n",
    "if is_palindrome(s):\n",
    "    print(s, \"is a palindrome\")\n",
    "else:\n",
    "    print(s, \"is not a palindrome\")\n"
   ]
  },
  {
   "cell_type": "code",
   "execution_count": 20,
   "id": "d0f2528d-1dd4-46fa-9e94-b9d8aa6f1a8b",
   "metadata": {},
   "outputs": [],
   "source": [
    "#18Write a Python program to remove duplicates from a list using a for loop."
   ]
  },
  {
   "cell_type": "code",
   "execution_count": 2,
   "id": "8a292a2d-0532-419a-ab26-66bd194d3324",
   "metadata": {},
   "outputs": [
    {
     "name": "stdin",
     "output_type": "stream",
     "text": [
      "enter 1: 1 2 2 2 3 4 5\n"
     ]
    },
    {
     "name": "stdout",
     "output_type": "stream",
     "text": [
      "Removed duplicates [1, 2, 3, 4, 5]\n"
     ]
    }
   ],
   "source": [
    "fin = []\n",
    "num = [int(item) for item in input(\"enter numbers:\").split()]\n",
    "for n in num:\n",
    "    if n not in fin:\n",
    "        fin.append(n)\n",
    "print(\"Removed duplicates\",fin)\n",
    "\n"
   ]
  },
  {
   "cell_type": "code",
   "execution_count": 3,
   "id": "b174d1bb-d81d-4023-a2a1-cc3c25130179",
   "metadata": {},
   "outputs": [],
   "source": [
    "#19Create a Python program that counts the number of words in a sentence using a for loop.\n"
   ]
  },
  {
   "cell_type": "code",
   "execution_count": 6,
   "id": "711108d3-8e8c-4150-9e8d-1c9babaea7bb",
   "metadata": {},
   "outputs": [
    {
     "name": "stdin",
     "output_type": "stream",
     "text": [
      "Enter a sentence:  sfg sdad hr asda\n"
     ]
    },
    {
     "name": "stdout",
     "output_type": "stream",
     "text": [
      "The number of words in the sentence is 4\n"
     ]
    }
   ],
   "source": [
    "def count_words(sentence):\n",
    "    count = 0\n",
    "    words = sentence.split(' ')\n",
    "    for word in words:\n",
    "        count += 1\n",
    "    return count\n",
    "\n",
    "sentence = input(\"Enter a sentence: \")\n",
    "\n",
    "print(\"The number of words in the sentence is\", count_words(sentence))"
   ]
  },
  {
   "cell_type": "code",
   "execution_count": 7,
   "id": "b6e7322f-22bd-4d0e-84bb-1f72b0605a63",
   "metadata": {},
   "outputs": [],
   "source": [
    "#20Write a Python program to find the sum of all odd numbers from 1 to 50 using a for loop"
   ]
  },
  {
   "cell_type": "code",
   "execution_count": 8,
   "id": "b247d4ee-85cf-4280-8ff7-f937be92355b",
   "metadata": {},
   "outputs": [
    {
     "name": "stdout",
     "output_type": "stream",
     "text": [
      "The sum of all odd numbers from 1 to 50 is 625\n"
     ]
    }
   ],
   "source": [
    "sum_of_odds = 0\n",
    "for i in range(1, 51):\n",
    "    if i % 2 == 1:\n",
    "        sum_of_odds += i\n",
    "\n",
    "print(\"The sum of all odd numbers from 1 to 50 is\", sum_of_odds)"
   ]
  },
  {
   "cell_type": "code",
   "execution_count": 9,
   "id": "39dd01ed-aea4-451d-9b6a-b24c86eb8407",
   "metadata": {},
   "outputs": [],
   "source": [
    "#21Write a Python program that checks if a given year is a leap year using a for loop."
   ]
  },
  {
   "cell_type": "code",
   "execution_count": 10,
   "id": "42057f39-fcae-4e51-b564-19690c7fd8c5",
   "metadata": {},
   "outputs": [
    {
     "name": "stdin",
     "output_type": "stream",
     "text": [
      "Enter a year:  2024\n"
     ]
    },
    {
     "name": "stdout",
     "output_type": "stream",
     "text": [
      "2024 is a leap year\n"
     ]
    }
   ],
   "source": [
    "def is_leap_year(year):\n",
    "    if year % 4 == 0:\n",
    "        if year % 100 == 0:\n",
    "            if year % 400 == 0:\n",
    "                return True\n",
    "            else:\n",
    "                return False\n",
    "        else:\n",
    "            return True\n",
    "    else:\n",
    "        return False\n",
    "\n",
    "year = int(input(\"Enter a year: \"))\n",
    "\n",
    "if is_leap_year(year):\n",
    "    print(year, \"is a leap year\")\n",
    "else:\n",
    "    print(year, \"is not a leap year\")\n"
   ]
  },
  {
   "cell_type": "code",
   "execution_count": 11,
   "id": "c9e87923-1171-444f-bb55-14ede34d82f6",
   "metadata": {},
   "outputs": [],
   "source": [
    "#22Create a Python program that calculates the square root of a number using a for loop."
   ]
  },
  {
   "cell_type": "code",
   "execution_count": 12,
   "id": "f8b6869f-3023-431c-b33d-2fe05b94e38b",
   "metadata": {},
   "outputs": [
    {
     "name": "stdin",
     "output_type": "stream",
     "text": [
      "Enter a number:  6\n"
     ]
    },
    {
     "name": "stdout",
     "output_type": "stream",
     "text": [
      "The square root of 6.0 is 2.449489742783178\n"
     ]
    }
   ],
   "source": [
    "def calculate_square_root(n):\n",
    "    x = n\n",
    "    for i in range(20):  \n",
    "        x = (x + n / x) / 2\n",
    "    return x\n",
    "\n",
    "n = float(input(\"Enter a number: \"))\n",
    "\n",
    "print(\"The square root of\", n, \"is\", calculate_square_root(n))"
   ]
  },
  {
   "cell_type": "code",
   "execution_count": 13,
   "id": "89cb065c-dd23-44bd-a309-1de4de85b89d",
   "metadata": {},
   "outputs": [],
   "source": [
    "#23Write a Python program to find the LCM (Least Common Multiple) of two numbers using a for loop"
   ]
  },
  {
   "cell_type": "code",
   "execution_count": 1,
   "id": "2025ae39-d251-4486-8244-680603b72f9b",
   "metadata": {},
   "outputs": [
    {
     "name": "stdin",
     "output_type": "stream",
     "text": [
      "Enter first number:  36\n",
      "Enter second number:  6\n"
     ]
    },
    {
     "name": "stdout",
     "output_type": "stream",
     "text": [
      "The L.C.M. of 36 and 6 is 36\n"
     ]
    }
   ],
   "source": [
    "def find_lcm(num1, num2):\n",
    "    if num1 > num2:\n",
    "        greater = num1\n",
    "    else:\n",
    "        greater = num2\n",
    "\n",
    "    while(True):\n",
    "        if((greater % num1 == 0) and (greater % num2 == 0)):\n",
    "            lcm = greater\n",
    "            break\n",
    "        greater += 1\n",
    "\n",
    "    return lcm\n",
    "\n",
    "num1 = int(input(\"Enter first number: \"))\n",
    "num2 = int(input(\"Enter second number: \"))\n",
    "\n",
    "print(\"The L.C.M. of\", num1, \"and\", num2, \"is\", find_lcm(num1, num2))\n"
   ]
  },
  {
   "cell_type": "code",
   "execution_count": 2,
   "id": "f6a29a0f-ddf6-400a-a66c-21ad4fa318e8",
   "metadata": {},
   "outputs": [],
   "source": [
    "#If else :\n",
    "#1Write a Python program to check if a number is positive, negative, or zero using an if-else statement."
   ]
  },
  {
   "cell_type": "code",
   "execution_count": 3,
   "id": "afb00dbb-2f54-4f5c-bb77-8a54bd4a5c12",
   "metadata": {},
   "outputs": [
    {
     "name": "stdin",
     "output_type": "stream",
     "text": [
      "Enter a number:  8\n"
     ]
    },
    {
     "name": "stdout",
     "output_type": "stream",
     "text": [
      "8.0 is a positive number\n"
     ]
    }
   ],
   "source": [
    "num = float(input(\"Enter a number: \"))\n",
    "\n",
    "if num > 0:\n",
    "    print(num, \"is a positive number\")\n",
    "elif num < 0:\n",
    "    print(num, \"is a negative number\")\n",
    "else:\n",
    "    print(num, \"is zero\")"
   ]
  },
  {
   "cell_type": "code",
   "execution_count": 4,
   "id": "79a9422c-6a75-4114-88e3-2fb31bf215e9",
   "metadata": {},
   "outputs": [],
   "source": [
    "#2.Create a Python program that checks if a given number is even or odd using an if-else statement."
   ]
  },
  {
   "cell_type": "code",
   "execution_count": 9,
   "id": "51819815-2467-4c76-8a69-7a91ac939fa5",
   "metadata": {},
   "outputs": [
    {
     "name": "stdin",
     "output_type": "stream",
     "text": [
      "Enter a number:  5\n"
     ]
    },
    {
     "name": "stdout",
     "output_type": "stream",
     "text": [
      "5.0 is a odd number\n"
     ]
    }
   ],
   "source": [
    "num = float(input(\"Enter a number: \"))\n",
    "\n",
    "if num%2== 0:\n",
    "    print(num, \"is a even number\")\n",
    "else: \n",
    "    print(num, \"is a odd number\")\n",
    "        "
   ]
  },
  {
   "cell_type": "code",
   "execution_count": null,
   "id": "301758c5-2985-4a2c-b3cb-0e179ee5d148",
   "metadata": {},
   "outputs": [],
   "source": [
    "#3How can you use nested if-else statements in Python, and provide an example?"
   ]
  },
  {
   "cell_type": "code",
   "execution_count": 10,
   "id": "2eb3ac76-c4c2-443b-be83-234b720befd2",
   "metadata": {},
   "outputs": [
    {
     "name": "stdin",
     "output_type": "stream",
     "text": [
      "Enter a number:  8\n"
     ]
    },
    {
     "name": "stdout",
     "output_type": "stream",
     "text": [
      "Positive number\n"
     ]
    }
   ],
   "source": [
    "num = int(input(\"Enter a number: \"))\n",
    "if num >= 0:\n",
    "    if num == 0:\n",
    "        print(\"Zero\")\n",
    "    else:\n",
    "        print(\"Positive number\")\n",
    "else:\n",
    "    print(\"Negative number\")"
   ]
  },
  {
   "cell_type": "code",
   "execution_count": 11,
   "id": "ab4a99fa-034e-46c8-8945-d08a20212f0c",
   "metadata": {},
   "outputs": [],
   "source": [
    "#4Write a Python program to determine the largest of three numbers using if-else."
   ]
  },
  {
   "cell_type": "code",
   "execution_count": 13,
   "id": "55f9bb04-a301-405e-9a90-727d308c0c27",
   "metadata": {},
   "outputs": [
    {
     "name": "stdin",
     "output_type": "stream",
     "text": [
      "Enter a number:  15\n",
      "Enter a number:  18\n",
      "Enter a number:  17\n"
     ]
    },
    {
     "name": "stdout",
     "output_type": "stream",
     "text": [
      "The largest number is 18\n"
     ]
    }
   ],
   "source": [
    "num1 = num = int(input(\"Enter a number: \"))\n",
    "num2 = num = int(input(\"Enter a number: \"))\n",
    "num3 = num = int(input(\"Enter a number: \"))\n",
    "\n",
    "if (num1 >= num2) and (num1 >= num3):\n",
    "  largest = num1\n",
    "elif (num2 >= num1) and (num2 >= num3):\n",
    "  largest = num2\n",
    "else:\n",
    "  largest = num3\n",
    "print(\"The largest number is\", largest)"
   ]
  },
  {
   "cell_type": "code",
   "execution_count": 14,
   "id": "fafbd906-843f-4fbe-957c-0907608610b5",
   "metadata": {},
   "outputs": [],
   "source": [
    "#5Write a Python program that calculates the absolute value of a number using if-else."
   ]
  },
  {
   "cell_type": "code",
   "execution_count": 20,
   "id": "11d8099b-5969-4559-91b3-2de841c93735",
   "metadata": {},
   "outputs": [
    {
     "name": "stdin",
     "output_type": "stream",
     "text": [
      "Enter a number:  12\n"
     ]
    },
    {
     "name": "stdout",
     "output_type": "stream",
     "text": [
      "The absolute value of 12.0 is 12.0\n"
     ]
    }
   ],
   "source": [
    "num = float(input(\"Enter a number: \"))\n",
    "if num >= 0:\n",
    "    abs_value = num\n",
    "else:\n",
    "    abs_value = -num\n",
    "\n",
    "print(\"The absolute value of\", num, \"is\", abs_value)"
   ]
  },
  {
   "cell_type": "code",
   "execution_count": null,
   "id": "75357bfa-eb05-4884-9b85-05be4505f141",
   "metadata": {},
   "outputs": [],
   "source": [
    "#6Create a Python program that checks if a given character is a vowel or consonant using if-else."
   ]
  },
  {
   "cell_type": "code",
   "execution_count": 22,
   "id": "6270bb59-6d18-4775-936e-854600b21b6c",
   "metadata": {},
   "outputs": [
    {
     "name": "stdin",
     "output_type": "stream",
     "text": [
      "Enter a character:  AEI\n"
     ]
    },
    {
     "name": "stdout",
     "output_type": "stream",
     "text": [
      "aei is a consonant\n"
     ]
    }
   ],
   "source": [
    "char = input(\"Enter a character: \")\n",
    "\n",
    "char = char.lower()\n",
    "\n",
    "if char in ['a', 'e', 'i', 'o', 'u']:\n",
    "    print(char, \"is a vowel\")\n",
    "elif char >= 'a' and char <= 'z':\n",
    "    print(char, \"is a consonant\")\n",
    "else:\n",
    "    print(char, \"is not an alphabet character\")\n"
   ]
  },
  {
   "cell_type": "code",
   "execution_count": null,
   "id": "e6d37ff4-829e-4a1c-bb9f-4048d6a78f02",
   "metadata": {},
   "outputs": [],
   "source": [
    "#7Write a Python program to determine if a user is eligible to vote based on their age using if-else."
   ]
  },
  {
   "cell_type": "code",
   "execution_count": 23,
   "id": "250f3fd6-8350-427b-9efd-5ed6350a14b0",
   "metadata": {},
   "outputs": [
    {
     "name": "stdin",
     "output_type": "stream",
     "text": [
      "Enter your age:  45\n"
     ]
    },
    {
     "name": "stdout",
     "output_type": "stream",
     "text": [
      "You are eligible to vote.\n"
     ]
    }
   ],
   "source": [
    "age = int(input(\"Enter your age: \"))\n",
    "\n",
    "if age >= 18:\n",
    "    print(\"You are eligible to vote.\")\n",
    "else:\n",
    "    print(\"You are not eligible to vote.\")\n"
   ]
  },
  {
   "cell_type": "code",
   "execution_count": 24,
   "id": "999b327a-c2a3-4a1b-82e0-6d7beb1067cf",
   "metadata": {},
   "outputs": [],
   "source": [
    "#8Create a Python program that calculates the discount amount based on the purchase amount using if-else."
   ]
  },
  {
   "cell_type": "code",
   "execution_count": 26,
   "id": "1d95f995-bf91-422f-82be-207a026ce05f",
   "metadata": {},
   "outputs": [
    {
     "name": "stdin",
     "output_type": "stream",
     "text": [
      "Enter the purchase amount:  650\n"
     ]
    },
    {
     "name": "stdout",
     "output_type": "stream",
     "text": [
      "The discount amount is 32.5\n"
     ]
    }
   ],
   "source": [
    "purchase_amount = float(input(\"Enter the purchase amount: \"))\n",
    "\n",
    "if purchase_amount > 1000:\n",
    "    discount = purchase_amount * 0.1  \n",
    "elif purchase_amount > 500:\n",
    "    discount = purchase_amount * 0.05  \n",
    "else:\n",
    "    discount = 0  \n",
    "\n",
    "print(\"The discount amount is\", discount)"
   ]
  },
  {
   "cell_type": "code",
   "execution_count": 27,
   "id": "494ac233-4b16-4272-b5ff-8ac9b4b6b7ee",
   "metadata": {},
   "outputs": [],
   "source": [
    "#9 Write a Python program to check if a number is within a specified range using if-else."
   ]
  },
  {
   "cell_type": "code",
   "execution_count": 29,
   "id": "60b776e3-4db2-4779-b956-5755ef23f37f",
   "metadata": {},
   "outputs": [
    {
     "name": "stdin",
     "output_type": "stream",
     "text": [
      "Enter a number:  19\n"
     ]
    },
    {
     "name": "stdout",
     "output_type": "stream",
     "text": [
      "19.0 is within the range 10 to 20\n"
     ]
    }
   ],
   "source": [
    "num = float(input(\"Enter a number: \"))\n",
    "\n",
    "lower_bound = 10\n",
    "upper_bound = 20\n",
    "\n",
    "if num >= lower_bound and num <= upper_bound:\n",
    "    print(num, \"is within the range\", lower_bound, \"to\", upper_bound)\n",
    "else:\n",
    "    print(num, \"is not within the range\", lower_bound, \"to\", upper_bound)"
   ]
  },
  {
   "cell_type": "code",
   "execution_count": 30,
   "id": "7570605b-38f6-4e7c-b23f-3556c6699e3b",
   "metadata": {},
   "outputs": [],
   "source": [
    "#10Create a Python program that determines the grade of a student based on their score using if-else."
   ]
  },
  {
   "cell_type": "code",
   "execution_count": 31,
   "id": "3bd3d735-79a5-49fc-85d4-a97b4128992c",
   "metadata": {},
   "outputs": [
    {
     "name": "stdin",
     "output_type": "stream",
     "text": [
      "Enter the student's score:  75\n"
     ]
    },
    {
     "name": "stdout",
     "output_type": "stream",
     "text": [
      "The student's grade is C\n"
     ]
    }
   ],
   "source": [
    "score = float(input(\"Enter the student's score: \"))\n",
    "\n",
    "if score >= 90:\n",
    "    grade = 'A'\n",
    "elif score >= 80:\n",
    "    grade = 'B'\n",
    "elif score >= 70:\n",
    "    grade = 'C'\n",
    "elif score >= 60:\n",
    "    grade = 'D'\n",
    "else:\n",
    "    grade = 'F'\n",
    "\n",
    "print(\"The student's grade is\", grade)"
   ]
  },
  {
   "cell_type": "code",
   "execution_count": 32,
   "id": "aacd0ae0-56d7-485b-a0cd-d1655f8b94f7",
   "metadata": {},
   "outputs": [],
   "source": [
    "#11Write a Python program to check if a string is empty or not using if-else."
   ]
  },
  {
   "cell_type": "code",
   "execution_count": 34,
   "id": "6016d3fb-ac15-4b96-ab3b-a558371f50bc",
   "metadata": {},
   "outputs": [
    {
     "name": "stdin",
     "output_type": "stream",
     "text": [
      "Enter a string:  \n"
     ]
    },
    {
     "name": "stdout",
     "output_type": "stream",
     "text": [
      "The string is empty.\n"
     ]
    }
   ],
   "source": [
    "s = input(\"Enter a string: \")\n",
    "\n",
    "if s:\n",
    "    print(\"The string is not empty.\")\n",
    "else:\n",
    "    print(\"The string is empty.\")\n"
   ]
  },
  {
   "cell_type": "code",
   "execution_count": 35,
   "id": "64647ee6-bd88-4b21-8106-08300fd91759",
   "metadata": {},
   "outputs": [],
   "source": [
    "#12Create a Python program that identifies the type of a triangle (e.g., equilateral, isosceles, or scalene) based on input values using if-else."
   ]
  },
  {
   "cell_type": "code",
   "execution_count": 38,
   "id": "ea72bb3c-2f96-4839-a15e-e80b7088d465",
   "metadata": {},
   "outputs": [
    {
     "name": "stdin",
     "output_type": "stream",
     "text": [
      "Enter the length of side a:  7\n",
      "Enter the length of side b:  8\n",
      "Enter the length of side c:  7\n"
     ]
    },
    {
     "name": "stdout",
     "output_type": "stream",
     "text": [
      "The triangle is isosceles.\n"
     ]
    }
   ],
   "source": [
    "a = float(input(\"Enter the length of side a: \"))\n",
    "b = float(input(\"Enter the length of side b: \"))\n",
    "c = float(input(\"Enter the length of side c: \"))\n",
    "\n",
    "if a == b and b == c:\n",
    "    print(\"The triangle is equilateral.\")\n",
    "elif a == b or b == c or a == c:\n",
    "    print(\"The triangle is isosceles.\")\n",
    "else:\n",
    "    print(\"The triangle is scalene.\")\n",
    "    \n",
    "    "
   ]
  },
  {
   "cell_type": "code",
   "execution_count": 39,
   "id": "630b6a14-e9b4-45ce-96e9-988fae1ec00f",
   "metadata": {},
   "outputs": [],
   "source": [
    "#13Write a Python program to determine the day of the week based on a user-provided number using if-else."
   ]
  },
  {
   "cell_type": "code",
   "execution_count": 40,
   "id": "b6b5d52e-9751-44e1-932f-76330d231fc6",
   "metadata": {},
   "outputs": [
    {
     "name": "stdin",
     "output_type": "stream",
     "text": [
      "Enter a number (1-7):  5\n"
     ]
    },
    {
     "name": "stdout",
     "output_type": "stream",
     "text": [
      "Friday\n"
     ]
    }
   ],
   "source": [
    "num = int(input(\"Enter a number (1-7): \"))\n",
    "\n",
    "if num == 1:\n",
    "    print(\"Monday\")\n",
    "elif num == 2:\n",
    "    print(\"Tuesday\")\n",
    "elif num == 3:\n",
    "    print(\"Wednesday\")\n",
    "elif num == 4:\n",
    "    print(\"Thursday\")\n",
    "elif num == 5:\n",
    "    print(\"Friday\")\n",
    "elif num == 6:\n",
    "    print(\"Saturday\")\n",
    "elif num == 7:\n",
    "    print(\"Sunday\")\n",
    "else:\n",
    "    print(\"Invalid number. Please enter a number between 1 and 7.\")"
   ]
  },
  {
   "cell_type": "code",
   "execution_count": 41,
   "id": "3503c75b-0f98-4160-95f3-f70b03224ea0",
   "metadata": {},
   "outputs": [],
   "source": [
    "#14Create a Python program that checks if a given year is a leap year using both if-else and a function."
   ]
  },
  {
   "cell_type": "code",
   "execution_count": 44,
   "id": "dc20e376-4f4c-4d91-8538-54632d34cbcb",
   "metadata": {},
   "outputs": [
    {
     "name": "stdin",
     "output_type": "stream",
     "text": [
      "Enter a year:  1999\n"
     ]
    },
    {
     "name": "stdout",
     "output_type": "stream",
     "text": [
      "1999 is not a leap year\n"
     ]
    }
   ],
   "source": [
    "def is_leap_year(year):\n",
    "    if year % 4 == 0:\n",
    "        if year % 100 == 0:\n",
    "            if year % 400 == 0:\n",
    "                return True\n",
    "            else:\n",
    "                return False\n",
    "        else:\n",
    "            return True\n",
    "    else:\n",
    "        return False\n",
    "year = int(input(\"Enter a year: \"))\n",
    "\n",
    "if is_leap_year(year):\n",
    "    print(year, \"is a leap year\")\n",
    "else:\n",
    "    print(year, \"is not a leap year\")"
   ]
  },
  {
   "cell_type": "code",
   "execution_count": 45,
   "id": "4243bbc8-3e18-43d2-aa29-22abe959db16",
   "metadata": {},
   "outputs": [],
   "source": [
    "#15How do you use the \"assert\" statement in Python to add debugging checks within if-else blocks?"
   ]
  },
  {
   "cell_type": "code",
   "execution_count": 49,
   "id": "e91278f9-a87a-4bcb-86f7-aab24653b2e4",
   "metadata": {},
   "outputs": [
    {
     "name": "stdout",
     "output_type": "stream",
     "text": [
      "8 is divisible by 2\n"
     ]
    }
   ],
   "source": [
    "def check_divisibility(n, divisor):\n",
    "    assert divisor != 0, \"Divisor cannot be zero\"\n",
    "    if n % divisor == 0:\n",
    "        print(n, \"is divisible by\", divisor)\n",
    "    else:\n",
    "        print(n, \"is not divisible by\", divisor)\n",
    "check_divisibility(8,2)"
   ]
  },
  {
   "cell_type": "code",
   "execution_count": 50,
   "id": "03eff1a2-592f-4da1-8dac-7894c12283a6",
   "metadata": {},
   "outputs": [],
   "source": [
    "#16.Create a Python program that determines the eligibility of a person for a senior citizen discount based on age using if-else."
   ]
  },
  {
   "cell_type": "code",
   "execution_count": 52,
   "id": "6f274cfb-d708-4426-bacf-e64abbe33749",
   "metadata": {},
   "outputs": [
    {
     "name": "stdin",
     "output_type": "stream",
     "text": [
      "Enter your age:  78\n"
     ]
    },
    {
     "name": "stdout",
     "output_type": "stream",
     "text": [
      "You are eligible for a senior citizen discount.\n"
     ]
    }
   ],
   "source": [
    "age = int(input(\"Enter your age: \"))\n",
    "\n",
    "if age >= 60:\n",
    "    print(\"You are eligible for a senior citizen discount.\")\n",
    "else:\n",
    "    print(\"You are not eligible for a senior citizen discount.\")\n"
   ]
  },
  {
   "cell_type": "code",
   "execution_count": 53,
   "id": "57691acd-8a5d-4935-8008-0a94b115d9e7",
   "metadata": {},
   "outputs": [],
   "source": [
    "#17.Write a Python program to categorize a given character as uppercase, lowercase, or neither using if-else."
   ]
  },
  {
   "cell_type": "code",
   "execution_count": 57,
   "id": "e451ce8b-5fcf-4870-9429-9a602fde0223",
   "metadata": {},
   "outputs": [
    {
     "name": "stdin",
     "output_type": "stream",
     "text": [
      "Enter a character:  SATYAM\n"
     ]
    },
    {
     "name": "stdout",
     "output_type": "stream",
     "text": [
      "SATYAM is an uppercase letter.\n"
     ]
    }
   ],
   "source": [
    "char = input(\"Enter a character: \")\n",
    "\n",
    "if char.isupper():\n",
    "    print(char, \"is an uppercase letter.\")\n",
    "elif char.islower():\n",
    "    print(char, \"is a lowercase letter.\")\n",
    "else:\n",
    "    print(char, \"is neither an uppercase nor a lowercase letter.\")"
   ]
  },
  {
   "cell_type": "code",
   "execution_count": 58,
   "id": "48826493-8e97-48ee-b8fe-9399c1315664",
   "metadata": {},
   "outputs": [],
   "source": [
    "#18Write a Python program to determine the roots of a quadratic equation using if-else."
   ]
  },
  {
   "cell_type": "code",
   "execution_count": 59,
   "id": "d76a5a4f-bca0-44ed-a321-e4fd7293814c",
   "metadata": {},
   "outputs": [
    {
     "name": "stdin",
     "output_type": "stream",
     "text": [
      "Enter coefficient a:  48\n",
      "Enter coefficient b:  45\n",
      "Enter coefficient c:  789\n"
     ]
    },
    {
     "name": "stdout",
     "output_type": "stream",
     "text": [
      "The roots are complex.\n",
      "The roots are: (-0.46875+4.027129677263944j) and (-0.46875-4.027129677263944j)\n"
     ]
    }
   ],
   "source": [
    "import cmath\n",
    "\n",
    "a = float(input(\"Enter coefficient a: \"))\n",
    "b = float(input(\"Enter coefficient b: \"))\n",
    "c = float(input(\"Enter coefficient c: \"))\n",
    "\n",
    "d = (b**2) - (4*a*c)\n",
    "\n",
    "if d > 0:\n",
    "    root1 = (-b + cmath.sqrt(d)) / (2 * a)\n",
    "    root2 = (-b - cmath.sqrt(d)) / (2 * a)\n",
    "    print(\"The roots are real and different.\")\n",
    "elif d == 0:\n",
    "    root1 = root2 = -b / (2 * a)\n",
    "    print(\"The roots are real and the same.\")\n",
    "else:\n",
    "    root1 = (-b + cmath.sqrt(d)) / (2 * a)\n",
    "    root2 = (-b - cmath.sqrt(d)) / (2 * a)\n",
    "    print(\"The roots are complex.\")\n",
    "\n",
    "print(\"The roots are:\", root1, \"and\", root2)\n"
   ]
  },
  {
   "cell_type": "code",
   "execution_count": 60,
   "id": "05149cfe-e5d8-46d8-8295-38dbcff2a9a3",
   "metadata": {},
   "outputs": [],
   "source": [
    "#19Create a Python program that checks if a given year is a century year or not using if-else."
   ]
  },
  {
   "cell_type": "code",
   "execution_count": 66,
   "id": "f033482a-f353-4461-a773-a9a825bd239d",
   "metadata": {},
   "outputs": [
    {
     "name": "stdout",
     "output_type": "stream",
     "text": [
      "2024 is not a century year.\n"
     ]
    }
   ],
   "source": [
    "def is_century_year(year):\n",
    "    if year % 100 == 0:\n",
    "        return True\n",
    "    else:\n",
    "        return False\n",
    "\n",
    "year = 2024\n",
    "if is_century_year(year):\n",
    "    print(f\"{year} is a century year.\")\n",
    "else:\n",
    "    print(f\"{year} is not a century year.\")"
   ]
  },
  {
   "cell_type": "code",
   "execution_count": 67,
   "id": "2e9d5870-8438-47e2-a62b-e169b5e38a8b",
   "metadata": {},
   "outputs": [],
   "source": [
    "#20Write a Python program to determine if a given number is a perfect square using if-else."
   ]
  },
  {
   "cell_type": "code",
   "execution_count": 68,
   "id": "8deb3de4-caf5-45e2-afb8-e732332046ee",
   "metadata": {},
   "outputs": [
    {
     "name": "stdout",
     "output_type": "stream",
     "text": [
      "16 is a perfect square.\n"
     ]
    }
   ],
   "source": [
    "import math\n",
    "\n",
    "def is_perfect_square(n):\n",
    "    root = math.sqrt(n)\n",
    "    if int(root + 0.5) ** 2 == n:\n",
    "        return True\n",
    "    else:\n",
    "        return False\n",
    "\n",
    "number = 16\n",
    "if is_perfect_square(number):\n",
    "    print(f\"{number} is a perfect square.\")\n",
    "else:\n",
    "    print(f\"{number} is not a perfect square.\")"
   ]
  },
  {
   "cell_type": "code",
   "execution_count": 69,
   "id": "ebaf0f42-756c-423e-bf45-77ead9a4c638",
   "metadata": {},
   "outputs": [],
   "source": [
    "#21Explain the purpose of the \"continue\" and \"break\" statements within if-else loops        "
   ]
  },
  {
   "cell_type": "code",
   "execution_count": 71,
   "id": "29651f32-2c3a-46d7-8550-26013bbe922a",
   "metadata": {},
   "outputs": [
    {
     "name": "stdout",
     "output_type": "stream",
     "text": [
      "1\n",
      "2\n",
      "4\n",
      "5\n",
      "6\n"
     ]
    }
   ],
   "source": [
    "for i in range(1, 10):\n",
    "    if i == 3:\n",
    "        continue  # Skip the rest of the code in the loop for this iteration\n",
    "    if i == 7:\n",
    "        break  # Exit the loop prematurely\n",
    "    print(i)"
   ]
  },
  {
   "cell_type": "code",
   "execution_count": 72,
   "id": "fceac01a-595e-4f66-8e72-085baa4d6ac7",
   "metadata": {},
   "outputs": [],
   "source": [
    "#22Create a Python program that calculates the BMI (Body Mass Index) of a person based on their weight and height using if-else."
   ]
  },
  {
   "cell_type": "code",
   "execution_count": 73,
   "id": "d7bca9cf-a256-4d51-92f1-9f72cf854f15",
   "metadata": {},
   "outputs": [
    {
     "name": "stdout",
     "output_type": "stream",
     "text": [
      "BMI: 22.86. This is considered 'Normal weight'.\n"
     ]
    }
   ],
   "source": [
    "def calculate_bmi(weight, height):\n",
    "    bmi = weight / (height ** 2)\n",
    "    if bmi < 18.5:\n",
    "        return f\"BMI: {bmi:.2f}. This is considered 'Underweight'.\"\n",
    "    elif 18.5 <= bmi < 24.9:\n",
    "        return f\"BMI: {bmi:.2f}. This is considered 'Normal weight'.\"\n",
    "    elif 25 <= bmi < 29.9:\n",
    "        return f\"BMI: {bmi:.2f}. This is considered 'Overweight'.\"\n",
    "    else:\n",
    "        return f\"BMI: {bmi:.2f}. This is considered 'Obesity'.\"\n",
    "\n",
    "weight = 70  \n",
    "height = 1.75  \n",
    "print(calculate_bmi(weight, height))\n"
   ]
  },
  {
   "cell_type": "code",
   "execution_count": 74,
   "id": "e6f76532-ffae-481c-980f-441a7a255b5d",
   "metadata": {},
   "outputs": [],
   "source": [
    "#23How can you use the \"filter()\" function with if-else statements to filter elements from a list?"
   ]
  },
  {
   "cell_type": "code",
   "execution_count": 3,
   "id": "8b7e5243-93b3-4a7f-859a-a22bf21ca52e",
   "metadata": {},
   "outputs": [
    {
     "name": "stdout",
     "output_type": "stream",
     "text": [
      "[2, 4, 6, 8, 10]\n"
     ]
    }
   ],
   "source": [
    "numbers = [1, 2, 3, 4, 5, 6, 7, 8, 9, 10]\n",
    "\n",
    "def is_even(number):\n",
    "    if number % 2 == 0:\n",
    "        return True\n",
    "    else:\n",
    "        return False\n",
    "\n",
    "even_numbers = filter(is_even, numbers)\n",
    "\n",
    "print(list(even_numbers))"
   ]
  },
  {
   "cell_type": "code",
   "execution_count": 4,
   "id": "7d9053d4-ca8c-4ee5-9d9b-1d1438840a9a",
   "metadata": {},
   "outputs": [],
   "source": [
    "#24Write a Python program to determine if a given number is prime or not using if-else."
   ]
  },
  {
   "cell_type": "code",
   "execution_count": 36,
   "id": "035bf00e-b761-4708-a033-16cdcc42ebbe",
   "metadata": {},
   "outputs": [
    {
     "name": "stdout",
     "output_type": "stream",
     "text": [
      "3 is a prime number.\n"
     ]
    }
   ],
   "source": [
    "def is_prime(n):\n",
    "    if n <= 1:\n",
    "        return f\"{n} is not a prime number.\"\n",
    "    elif n <= 3 or n ==5 or n==7:\n",
    "        return f\"{n} is a prime number.\"\n",
    "    elif n % 2 != 0 and n % 3 != 0 and n%5 !=0 and n%7!=0:\n",
    "        return f\"{n} is a prime number.\"\n",
    "    else:\n",
    "        return f\"{n} is a not a prime number.\"\n",
    "\n",
    "number = 3\n",
    "\n",
    "print(is_prime(number))"
   ]
  },
  {
   "cell_type": "code",
   "execution_count": 37,
   "id": "0f7180b1-49d3-4c6a-bf89-96c2a358bf8a",
   "metadata": {},
   "outputs": [],
   "source": [
    "#Map :-\n",
    "#1Explain the purpose of the `map()` function in Python and provide an example of how it can be used to apply a function to each element of an iterable."
   ]
  },
  {
   "cell_type": "code",
   "execution_count": 39,
   "id": "a62db420-4358-4f20-bac9-d994234ca61f",
   "metadata": {},
   "outputs": [
    {
     "name": "stdout",
     "output_type": "stream",
     "text": [
      "<map object at 0x7fa227858550>\n",
      "[9, 25, 49, 121, 169]\n"
     ]
    }
   ],
   "source": [
    "#The map() function in Python is used to apply a function to each item in an iterable (like a list, tuple, etc.). It returns a map object which is an iterable itself. You can convert this map object to a list or another iterable if needed.\n",
    "def mul(i):\n",
    "  return i * i\n",
    "x = map(mul,(3, 5, 7, 11, 13))\n",
    "print(x)\n",
    "print(list(x))"
   ]
  },
  {
   "cell_type": "code",
   "execution_count": null,
   "id": "78af39bb-123b-4b05-bfd2-9d252ab4e6b8",
   "metadata": {},
   "outputs": [],
   "source": [
    "#2Write a Python program that uses the `map()` function to square each element of a list of numbers"
   ]
  },
  {
   "cell_type": "code",
   "execution_count": 38,
   "id": "4329cd90-1a61-43d1-a3aa-85a1acf939dc",
   "metadata": {},
   "outputs": [
    {
     "name": "stdout",
     "output_type": "stream",
     "text": [
      "[1, 4, 9, 16, 25]\n"
     ]
    }
   ],
   "source": [
    "numbers = [1, 2, 3, 4, 5]\n",
    "\n",
    "def square(number):\n",
    "    return number ** 2\n",
    "\n",
    "squares = map(square, numbers)\n",
    "\n",
    "print(list(squares))"
   ]
  },
  {
   "cell_type": "code",
   "execution_count": 40,
   "id": "b6c97781-5d2f-4ce3-966d-ee5bf62dc304",
   "metadata": {},
   "outputs": [],
   "source": [
    "#3How does the `map()` function differ from a list comprehension in Python, and when would you choose one over the other?"
   ]
  },
  {
   "cell_type": "code",
   "execution_count": 42,
   "id": "9f0ddb92-af59-4401-8e4b-cc64f7a8a7d8",
   "metadata": {},
   "outputs": [
    {
     "data": {
      "text/plain": [
       "\"The `map()` function and list comprehension in Python both provide a way to apply a function to each item in an iterable. However, they do so in slightly different ways and have different use cases.\\n\\n**map() function:**\\n- `map()` is a built-in Python function that takes in two or more arguments: a function and one or more iterables.\\n- `map()` applies the function to all elements of the iterable and returns a map object which is an iterable itself.\\n- The returned value from `map()` (map object) can then be passed to functions like `list()` (to create a list), `set()` (to create a set), etc.\\n\\n**List Comprehension:**\\n- List comprehension is a concise way to create lists based on existing lists.\\n- It is more idiomatic and readable when performing simple transformations on an iterable.\\n- It allows filtering of elements using conditional logic.\\n\\nHere's an example of using both to square each item in a list:\\n\\nUsing `map()`:\\n```python\\nnumbers = [1, 2, 3, 4, 5]\\ndef square(n):\\n    return n*n\\nsquares = list(map(square, numbers))\\n```\\n\\nUsing list comprehension:\\n```python\\nnumbers = [1, 2, 3, 4, 5]\\nsquares = [n*n for n in numbers]\\n```\\n\\n**When to use one over the other?**\\n- If the operation is simple and can be described in a single expression, list comprehension can be a more direct and clear way to write the transformation. It's more 'pythonic' and often easier to read and understand.\\n- If you're applying a pre-defined function to the elements in the iterable, using `map()` can be more straightforward.\\n- If you need to apply a complex function or series of transformations to an iterable, using `map()` with a defined function can improve readability.\\n- If you need to filter items out of the list, list comprehension’s ability to do filtering and transformation in one go can be handy.\\n- If you're working with very large iterables and memory is a concern, `map()` can be a better choice as it returns an iterator that generates items on the fly without needing to store the entire list in memory. \\n\\nIn general, the choice between `map()` and list comprehension depends on the specific scenario, the complexity of the operation, and the readability of the code. Both are powerful tools in Python and can be used effectively in different situations.\""
      ]
     },
     "execution_count": 42,
     "metadata": {},
     "output_type": "execute_result"
    }
   ],
   "source": [
    "'''The `map()` function and list comprehension in Python both provide a way to apply a function to each item in an iterable. However, they do so in slightly different ways and have different use cases.\n",
    "\n",
    "**map() function:**\n",
    "- `map()` is a built-in Python function that takes in two or more arguments: a function and one or more iterables.\n",
    "- `map()` applies the function to all elements of the iterable and returns a map object which is an iterable itself.\n",
    "- The returned value from `map()` (map object) can then be passed to functions like `list()` (to create a list), `set()` (to create a set), etc.\n",
    "\n",
    "**List Comprehension:**\n",
    "- List comprehension is a concise way to create lists based on existing lists.\n",
    "- It is more idiomatic and readable when performing simple transformations on an iterable.\n",
    "- It allows filtering of elements using conditional logic.\n",
    "\n",
    "Here's an example of using both to square each item in a list:\n",
    "\n",
    "Using `map()`:\n",
    "```python\n",
    "numbers = [1, 2, 3, 4, 5]\n",
    "def square(n):\n",
    "    return n*n\n",
    "squares = list(map(square, numbers))\n",
    "```\n",
    "\n",
    "Using list comprehension:\n",
    "```python\n",
    "numbers = [1, 2, 3, 4, 5]\n",
    "squares = [n*n for n in numbers]\n",
    "```\n",
    "\n",
    "**When to use one over the other?**\n",
    "- If the operation is simple and can be described in a single expression, list comprehension can be a more direct and clear way to write the transformation. It's more 'pythonic' and often easier to read and understand.\n",
    "- If you're applying a pre-defined function to the elements in the iterable, using `map()` can be more straightforward.\n",
    "- If you need to apply a complex function or series of transformations to an iterable, using `map()` with a defined function can improve readability.\n",
    "- If you need to filter items out of the list, list comprehension’s ability to do filtering and transformation in one go can be handy.\n",
    "- If you're working with very large iterables and memory is a concern, `map()` can be a better choice as it returns an iterator that generates items on the fly without needing to store the entire list in memory. \n",
    "\n",
    "In general, the choice between `map()` and list comprehension depends on the specific scenario, the complexity of the operation, and the readability of the code. Both are powerful tools in Python and can be used effectively in different situations.'''"
   ]
  },
  {
   "cell_type": "code",
   "execution_count": 43,
   "id": "6c15d1f8-bce4-4ea9-9d02-2068cff205a5",
   "metadata": {},
   "outputs": [],
   "source": [
    "#4Create a Python program that uses the `map()` function to convert a list of names to uppercase."
   ]
  },
  {
   "cell_type": "code",
   "execution_count": 45,
   "id": "4ae83744-3786-4263-b35b-b3c470938db6",
   "metadata": {},
   "outputs": [
    {
     "data": {
      "text/plain": [
       "['SATYAM', 'ARUN', 'MANAN']"
      ]
     },
     "execution_count": 45,
     "metadata": {},
     "output_type": "execute_result"
    }
   ],
   "source": [
    "list(map(lambda x: x.upper(), [\"Satyam\", \"arun\", \"manan\"]))"
   ]
  },
  {
   "cell_type": "code",
   "execution_count": 50,
   "id": "3b2d29d6-0cab-47fd-8ef6-9bfbae1309e1",
   "metadata": {},
   "outputs": [
    {
     "name": "stdout",
     "output_type": "stream",
     "text": [
      "['SATYAM', 'CHADAN', 'ARUN']\n"
     ]
    }
   ],
   "source": [
    "names = [\"satyam\", \"Chadan\", \"Arun\"]\n",
    "uppercase_names = map(str.upper, names)\n",
    "print(list(uppercase_names))"
   ]
  },
  {
   "cell_type": "code",
   "execution_count": 52,
   "id": "a75f2c4d-be8e-4202-955a-e837a629a04b",
   "metadata": {},
   "outputs": [],
   "source": [
    "#5Write a Python program that uses the `map()` function to calculate the length of each word in a list of strings."
   ]
  },
  {
   "cell_type": "code",
   "execution_count": 7,
   "id": "318ece6c-2ea4-4887-beec-4f249f9f6d29",
   "metadata": {},
   "outputs": [
    {
     "name": "stdout",
     "output_type": "stream",
     "text": [
      "[6, 6, 4]\n"
     ]
    }
   ],
   "source": [
    "words = [\"satyam\", \"Chadan\", \"Arun\"]\n",
    "leng = list(map(len, words))\n",
    "print(leng)"
   ]
  },
  {
   "cell_type": "code",
   "execution_count": 8,
   "id": "62760c6c-dfcb-442b-bcd9-335d3f927a3f",
   "metadata": {},
   "outputs": [],
   "source": [
    "#6How can you use the `map()` function to apply a custom function to elements of multiple lists simultaneously in Python?"
   ]
  },
  {
   "cell_type": "code",
   "execution_count": 10,
   "id": "10885322-1652-46f0-8a9a-ccd31f0bc6ca",
   "metadata": {},
   "outputs": [
    {
     "name": "stdout",
     "output_type": "stream",
     "text": [
      "[12, 15, 18]\n"
     ]
    }
   ],
   "source": [
    "list1 = [1, 2, 3]\n",
    "list2 = [4, 5, 6]\n",
    "list3 = [7, 8, 9]\n",
    "\n",
    "result = map(lambda x, y, z: x + y + z, list1, list2, list3)\n",
    "\n",
    "print(list(result))"
   ]
  },
  {
   "cell_type": "code",
   "execution_count": 11,
   "id": "ce77d0d4-c1d2-4d11-b101-4073d312bbc7",
   "metadata": {},
   "outputs": [],
   "source": [
    "#7Create a Python program that uses `map()` to convert a list of temperatures from Celsius to Fahrenheit."
   ]
  },
  {
   "cell_type": "code",
   "execution_count": 25,
   "id": "f226a2c4-f020-47de-81c5-d3a51db8dbd3",
   "metadata": {},
   "outputs": [
    {
     "name": "stdout",
     "output_type": "stream",
     "text": [
      "[32.0, 50.0, 68.0, 86.0, 104.0]\n"
     ]
    }
   ],
   "source": [
    "celsius = [0, 10, 20, 30, 40]\n",
    "fahrenheit = map(lambda temp: (temp * 9/5) + 32, celsius)\n",
    "print(list(fahrenheit))"
   ]
  },
  {
   "cell_type": "code",
   "execution_count": 13,
   "id": "7dea8143-f787-45dc-be31-11a86658c748",
   "metadata": {},
   "outputs": [],
   "source": [
    "#8Write a Python program that uses the `map()` function to round each element of a list of floating-point numbers to the nearest integer"
   ]
  },
  {
   "cell_type": "code",
   "execution_count": 18,
   "id": "ed982d6a-3620-44d1-aaea-b02406f0cf8a",
   "metadata": {},
   "outputs": [
    {
     "name": "stdout",
     "output_type": "stream",
     "text": [
      "[1, 2, 4, 4, 5]\n"
     ]
    }
   ],
   "source": [
    "numbers = [1.2, 2.5, 3.7, 4.3, 5.0]\n",
    "f = list(map(round,numbers))\n",
    "print(f)"
   ]
  },
  {
   "cell_type": "code",
   "execution_count": 26,
   "id": "90a7564b-93e1-45b3-8c02-af0e1249fe8f",
   "metadata": {},
   "outputs": [],
   "source": [
    "#Reduce :-\n",
    "#What is the `reduce()` function in Python, and what module should you import to use it? Provide an example of its basic usage."
   ]
  },
  {
   "cell_type": "code",
   "execution_count": 28,
   "id": "b6763996-086f-458a-a457-c794a9a325a1",
   "metadata": {},
   "outputs": [
    {
     "data": {
      "text/plain": [
       "\"The `reduce()` function in Python is a part of the `functools` module¹⁵. It's used to apply a function to a sequence of values, reducing the sequence to a single cumulative value.\\n\\nHere's how it works:\\n1. The `reduce()` function applies the function to the first and the second element of an iterable⁴.\\n2. It stores the result.\\n3. Then it applies the function to the stored result and the next element in the sequence⁴.\\n4. This process continues until no more values are left in the iterable⁴.\\n5. The final result is returned⁴.\\n\\nHere's an example of its basic usage:\\n\\nimport functools\\n\\nnumbers = [1, 2, 3, 4, 5]\\n\\nproduct = functools.reduce(lambda x, y: x * y, numbers)\\n\\nprint(product)  \""
      ]
     },
     "execution_count": 28,
     "metadata": {},
     "output_type": "execute_result"
    }
   ],
   "source": [
    "\"\"\"The `reduce()` function in Python is a part of the `functools` module. It's used to apply a function to a sequence of values, reducing the sequence to a single cumulative value.\n",
    "\n",
    "Here's how it works:\n",
    "1. The `reduce()` function applies the function to the first and the second element of an iterable.\n",
    "2. It stores the result.\n",
    "3. Then it applies the function to the stored result and the next element in the sequence.\n",
    "4. This process continues until no more values are left in the iterable.\n",
    "5. The final result is returned⁴.\n",
    "\n",
    "Here's an example of its basic usage:\n",
    "\n",
    "import functools\n",
    "\n",
    "numbers = [1, 2, 3, 4, 5]\n",
    "\n",
    "product = functools.reduce(lambda x, y: x * y, numbers)\n",
    "\n",
    "print(product)  \"\"\"\n"
   ]
  },
  {
   "cell_type": "code",
   "execution_count": 29,
   "id": "56849aef-c366-4393-a52d-a52a6d5ed3ab",
   "metadata": {},
   "outputs": [],
   "source": [
    "#2Write a Python program that uses the `reduce()` function to find the product of all elements in a list."
   ]
  },
  {
   "cell_type": "code",
   "execution_count": 6,
   "id": "d3945b63-efd7-4e4d-bb83-1f5e4c94fb8d",
   "metadata": {},
   "outputs": [
    {
     "name": "stdout",
     "output_type": "stream",
     "text": [
      "120\n"
     ]
    }
   ],
   "source": [
    "import functools\n",
    "\n",
    "numbers = [1, 2, 3, 4, 5]\n",
    "\n",
    "product = functools.reduce(lambda x, y: x * y, numbers)\n",
    "\n",
    "print(product) \n",
    "\n"
   ]
  },
  {
   "cell_type": "code",
   "execution_count": 8,
   "id": "08ec6ba9-77fb-40fe-9ad3-d1b601fb8358",
   "metadata": {},
   "outputs": [],
   "source": [
    "#3Create a Python program that uses `reduce()` to find the maximum element in a list of numbers."
   ]
  },
  {
   "cell_type": "code",
   "execution_count": 13,
   "id": "1a16ba3b-b3ff-4021-890f-233d78a036f4",
   "metadata": {},
   "outputs": [
    {
     "name": "stdout",
     "output_type": "stream",
     "text": [
      "56\n"
     ]
    }
   ],
   "source": [
    "import functools\n",
    "\n",
    "numbers = [1, 8, 3, 44, 56]\n",
    "\n",
    "product = functools.reduce(lambda x, y: x if x > y else y, numbers)\n",
    "\n",
    "print(product) "
   ]
  },
  {
   "cell_type": "code",
   "execution_count": 14,
   "id": "376c01db-dcf3-4ad4-8377-11b6882a9a61",
   "metadata": {},
   "outputs": [],
   "source": [
    "#4How can you use the `reduce()` function to concatenate a list of strings into a single string?"
   ]
  },
  {
   "cell_type": "code",
   "execution_count": 2,
   "id": "d256a0e8-e2c7-4e89-a931-f0748df15ab1",
   "metadata": {},
   "outputs": [
    {
     "name": "stdout",
     "output_type": "stream",
     "text": [
      "Hello from Python\n"
     ]
    }
   ],
   "source": [
    "import functools\n",
    "\n",
    "strings = [\"Hello\", \"from\", \"Python\"]\n",
    "\n",
    "concatenated_string = functools.reduce(lambda x, y: x + \" \" + y, strings)\n",
    "\n",
    "print(concatenated_string) \n"
   ]
  },
  {
   "cell_type": "code",
   "execution_count": 3,
   "id": "6ec002b7-a0b3-4351-850b-5fdc1ad12fdc",
   "metadata": {},
   "outputs": [],
   "source": [
    "#5Write a Python program that calculates the factorial of a number using the `reduce()` function"
   ]
  },
  {
   "cell_type": "code",
   "execution_count": 20,
   "id": "b390ddec-3257-4254-b879-fe925a22f374",
   "metadata": {},
   "outputs": [
    {
     "name": "stdin",
     "output_type": "stream",
     "text": [
      "Enter a number 9\n"
     ]
    },
    {
     "name": "stdout",
     "output_type": "stream",
     "text": [
      "362880\n"
     ]
    }
   ],
   "source": [
    "import functools\n",
    "\n",
    "n = int(input(\"Enter a number\"))\n",
    "\n",
    "if n==0:\n",
    "    print(0)\n",
    "else:\n",
    "    fact = functools.reduce(lambda x, y : x*y, range(1, n+1))\n",
    "    print(fact)"
   ]
  },
  {
   "cell_type": "code",
   "execution_count": 8,
   "id": "2042f7a4-94d5-4a3b-bbba-c38be436207b",
   "metadata": {},
   "outputs": [],
   "source": [
    "#6Create a Python program that uses `reduce()` to find the GCD (Greatest Common Divisor) of a list of numbers"
   ]
  },
  {
   "cell_type": "code",
   "execution_count": 22,
   "id": "730a0b12-08bb-45af-b7a5-55b21f4d48ce",
   "metadata": {},
   "outputs": [
    {
     "name": "stdout",
     "output_type": "stream",
     "text": [
      "12\n"
     ]
    }
   ],
   "source": [
    "from functools import reduce\n",
    "import math\n",
    "\n",
    "numbers = [12, 24, 36, 48, 60]\n",
    "\n",
    "gcd = reduce(math.gcd, numbers)\n",
    "\n",
    "print(gcd) "
   ]
  },
  {
   "cell_type": "code",
   "execution_count": 23,
   "id": "123f5ab9-07cc-443a-9765-24d323903595",
   "metadata": {},
   "outputs": [],
   "source": [
    "#7Write a Python program that uses the `reduce()` function to find the sum of the digits of a given number."
   ]
  },
  {
   "cell_type": "code",
   "execution_count": 12,
   "id": "04b32b97-4dc0-4fb4-afd7-2989ff634868",
   "metadata": {},
   "outputs": [
    {
     "name": "stdout",
     "output_type": "stream",
     "text": [
      "15\n"
     ]
    }
   ],
   "source": [
    "from functools import reduce\n",
    "\n",
    "number = 12345\n",
    "\n",
    "digits = list(map(int, str(number)))\n",
    "\n",
    "sum_of_digits = reduce(lambda x, y: x + y, digits)\n",
    "\n",
    "print(sum_of_digits) \n",
    "     "
   ]
  },
  {
   "cell_type": "code",
   "execution_count": 13,
   "id": "65a611da-723b-4752-af47-b82179beeedb",
   "metadata": {},
   "outputs": [],
   "source": [
    "#Filter :-\n",
    "#1Explain the purpose of the `filter()` function in Python and provide an example of how it can be used to filter elements from an iterable."
   ]
  },
  {
   "cell_type": "code",
   "execution_count": 18,
   "id": "af76d64c-b36c-450e-9df7-890c1a794409",
   "metadata": {},
   "outputs": [
    {
     "name": "stdout",
     "output_type": "stream",
     "text": [
      "[1, 3, 5, 7, 9]\n"
     ]
    }
   ],
   "source": [
    "#The filter() function in Python is a built-in function that allows you to process an iterable and extract those items that satisfy a given condition\n",
    "numbers = [1, 2, 3, 4, 5, 6, 7, 8, 9, 10]\n",
    "\n",
    "odd_numbers = filter(lambda x: x % 2 != 0, numbers)\n",
    "\n",
    "print(list(odd_numbers))\n"
   ]
  },
  {
   "cell_type": "code",
   "execution_count": 19,
   "id": "01ed992c-5387-40c9-bca4-519a34919bcf",
   "metadata": {},
   "outputs": [],
   "source": [
    "#2Write a Python program that uses the `filter()` function to select even numbers from a list of integers."
   ]
  },
  {
   "cell_type": "code",
   "execution_count": 20,
   "id": "4a8d3d05-8351-43f2-985f-7dad90b649d1",
   "metadata": {},
   "outputs": [
    {
     "name": "stdout",
     "output_type": "stream",
     "text": [
      "[2, 4, 6, 8, 10]\n"
     ]
    }
   ],
   "source": [
    "numbers = [1, 2, 3, 4, 5, 6, 7, 8, 9, 10]\n",
    "\n",
    "even_numbers = filter(lambda x: x % 2 == 0, numbers)\n",
    "\n",
    "print(list(even_numbers))\n"
   ]
  },
  {
   "cell_type": "code",
   "execution_count": 21,
   "id": "391127e3-6538-4c96-92fc-f2d91d707cd3",
   "metadata": {},
   "outputs": [],
   "source": [
    "#3Create a Python program that uses the `filter()` function to select names that start with a specific letter from a list of strings."
   ]
  },
  {
   "cell_type": "code",
   "execution_count": 2,
   "id": "3fa0a1f6-5ea3-45d2-9b8a-2c0b236a44db",
   "metadata": {},
   "outputs": [
    {
     "name": "stdout",
     "output_type": "stream",
     "text": [
      "['Alice', 'Aob']\n"
     ]
    }
   ],
   "source": [
    "names = [\"Alice\", \"Aob\", \"Charlie\", \"Dave\", \"pve\", \"Frank\"]\n",
    "letter = \"A\"\n",
    "\n",
    "\n",
    "filtered_names = filter(lambda name: name.startswith(letter), names)\n",
    "\n",
    "print(list(filtered_names))  \n"
   ]
  },
  {
   "cell_type": "code",
   "execution_count": 3,
   "id": "4e0377b7-7e8c-4050-9b55-09a3d171e332",
   "metadata": {},
   "outputs": [],
   "source": [
    "#4Write a Python program that uses the `filter()` function to select prime numbers from a list of integers."
   ]
  },
  {
   "cell_type": "code",
   "execution_count": 3,
   "id": "4a68bdf8-b173-4ff2-ada5-7ec21ec8544e",
   "metadata": {},
   "outputs": [
    {
     "name": "stdout",
     "output_type": "stream",
     "text": [
      "[2, 3, 5, 7]\n"
     ]
    }
   ],
   "source": [
    "def is_prime(n):\n",
    "    if n < 2:\n",
    "        return False\n",
    "    for i in range(2, int(n**0.5) + 1):\n",
    "        if n % i == 0:\n",
    "            return False\n",
    "    return True\n",
    "\n",
    "numbers = [1, 2, 3, 4, 5, 6, 7, 8, 9, 10]\n",
    "\n",
    "prime_numbers = filter(is_prime, numbers)\n",
    "\n",
    "print(list(prime_numbers)) \n"
   ]
  },
  {
   "cell_type": "code",
   "execution_count": 8,
   "id": "004002c8-e1fe-48af-bc85-d7fda0c53fbd",
   "metadata": {},
   "outputs": [],
   "source": [
    "#5How can you use the `filter()` function to remove None values from a list in Python?\n"
   ]
  },
  {
   "cell_type": "code",
   "execution_count": 9,
   "id": "7bd85cb0-7472-4927-85cc-99aebb0236e8",
   "metadata": {},
   "outputs": [
    {
     "name": "stdout",
     "output_type": "stream",
     "text": [
      "[1, 2, 4, 5]\n"
     ]
    }
   ],
   "source": [
    "numbers = [1, 2, None, 4, None, 5]\n",
    "\n",
    "filtered_numbers = filter(lambda x: x is not None, numbers)\n",
    "\n",
    "print(list(filtered_numbers)) \n"
   ]
  },
  {
   "cell_type": "code",
   "execution_count": 10,
   "id": "0b674d64-58fd-45b4-996c-3a2073f19934",
   "metadata": {},
   "outputs": [],
   "source": [
    "#6Create a Python program that uses `filter()` to select words longer than a certain length from a list of strings."
   ]
  },
  {
   "cell_type": "code",
   "execution_count": 11,
   "id": "610afc77-85d6-43e9-b22a-a92096827460",
   "metadata": {},
   "outputs": [
    {
     "name": "stdout",
     "output_type": "stream",
     "text": [
      "['banana', 'cherry', 'elderberry']\n"
     ]
    }
   ],
   "source": [
    "words = [\"apple\", \"banana\", \"cherry\", \"date\", \"elderberry\"]\n",
    "\n",
    "min_length = 5\n",
    "\n",
    "long_words = filter(lambda word: len(word) > min_length, words)\n",
    "\n",
    "print(list(long_words)) \n"
   ]
  },
  {
   "cell_type": "code",
   "execution_count": 12,
   "id": "c8cf9250-96ed-4176-abe1-7c79f7136cc6",
   "metadata": {},
   "outputs": [],
   "source": [
    "#7Write a Python program that uses the `filter()` function to select elements greater than a specified threshold from a list of values."
   ]
  },
  {
   "cell_type": "code",
   "execution_count": 13,
   "id": "a7259289-4be4-4c25-92aa-03fe18843f93",
   "metadata": {},
   "outputs": [
    {
     "name": "stdout",
     "output_type": "stream",
     "text": [
      "[6, 7, 8, 9, 10]\n"
     ]
    }
   ],
   "source": [
    "values = [1, 2, 3, 4, 5, 6, 7, 8, 9, 10]\n",
    "\n",
    "threshold = 5\n",
    "\n",
    "filtered_values = filter(lambda x: x > threshold, values)\n",
    "\n",
    "print(list(filtered_values)) \n"
   ]
  },
  {
   "cell_type": "code",
   "execution_count": 14,
   "id": "1504712c-7c75-4e09-8da6-55377fb6406b",
   "metadata": {},
   "outputs": [],
   "source": [
    "#Recursion:-\n",
    "#1#RecursionExplain the concept of recursion in Python. How does it differ from iteration?:-\n"
   ]
  },
  {
   "cell_type": "code",
   "execution_count": null,
   "id": "284a7219-4dea-4823-bd8a-72eb41755fbd",
   "metadata": {},
   "outputs": [],
   "source": [
    "'''Recursion and iteration are two different programming concepts used to solve problems in Python\n",
    "Recursion is a method where the solution to a problem depends on solutions to smaller instances of the same problem Recursion is a method where the solution to a problem depends on solutions to smaller instances of the same problem\n",
    "def factorial(n):\n",
    "    if n == 0:\n",
    "        return 1\n",
    "    else:\n",
    "        return n * factorial(n-1)\n",
    "Iteration, on the other hand, is the repetition of a process within a computer program, typically facilitated by loops such as for and while1234. Iteration follows the sequential execution approach4. Iteration does not involve any such overhead as recursion124.\n",
    "\n",
    "\n",
    "def factorial(n):\n",
    "    result = 1\n",
    "    for i in range(1, n + 1):\n",
    "        result *= i\n",
    "    return result\n"
   ]
  },
  {
   "cell_type": "code",
   "execution_count": 15,
   "id": "c7ed6432-7a21-4556-97b2-f6b4fab07f0c",
   "metadata": {},
   "outputs": [],
   "source": [
    "#2Write a Python program to calculate the factorial of a number using recursion.\n"
   ]
  },
  {
   "cell_type": "code",
   "execution_count": 17,
   "id": "28fe9e9a-a325-4ee7-bfdc-854279531fae",
   "metadata": {},
   "outputs": [
    {
     "name": "stdout",
     "output_type": "stream",
     "text": [
      "120\n"
     ]
    }
   ],
   "source": [
    "def factorial(n):\n",
    "    if n == 0:\n",
    "        return 1\n",
    "    else:\n",
    "        return n * factorial(n-1)\n",
    "n =5\n",
    "print(factorial(n))"
   ]
  },
  {
   "cell_type": "code",
   "execution_count": 18,
   "id": "036253d8-81c3-4f01-b175-19b55f8f6ffa",
   "metadata": {},
   "outputs": [],
   "source": [
    "#3Create a recursive Python function to find the nth Fibonacci number.\n"
   ]
  },
  {
   "cell_type": "code",
   "execution_count": 25,
   "id": "c0c9b657-e234-4844-95d1-c04f38b24e5f",
   "metadata": {},
   "outputs": [
    {
     "name": "stdout",
     "output_type": "stream",
     "text": [
      "34\n"
     ]
    }
   ],
   "source": [
    "def fibonacci(n):\n",
    "    if n <= 0:\n",
    "        return \"Input should be a positive integer.\"\n",
    "    elif n == 1:\n",
    "        return 0\n",
    "    elif n == 2:\n",
    "        return 1\n",
    "    else:\n",
    "        return fibonacci(n-1) + fibonacci(n-2)\n",
    "print(fibonacci(10))"
   ]
  },
  {
   "cell_type": "code",
   "execution_count": 27,
   "id": "d905d18f-0a52-4836-a705-5657b9ebddcb",
   "metadata": {},
   "outputs": [],
   "source": [
    "#4Write a recursive Python function to calculate the sum of all elements in a list."
   ]
  },
  {
   "cell_type": "code",
   "execution_count": 2,
   "id": "bc7d8fe2-cd34-49fe-9889-abb71ccca1de",
   "metadata": {},
   "outputs": [
    {
     "name": "stdout",
     "output_type": "stream",
     "text": [
      "15\n"
     ]
    }
   ],
   "source": [
    "def sum_list(lst):\n",
    "    if not lst:\n",
    "        return 0\n",
    "    else:\n",
    "        return lst[0] + sum_list(lst[1:])\n",
    "\n",
    "print(sum_list([1, 2, 3, 4, 5])) "
   ]
  },
  {
   "cell_type": "code",
   "execution_count": 1,
   "id": "a241e527-6afa-494d-bacb-97f938dfaa3f",
   "metadata": {},
   "outputs": [],
   "source": [
    "#5How can you prevent a recursive function from running indefinitely, causing a stack overflow error?\n"
   ]
  },
  {
   "cell_type": "code",
   "execution_count": 3,
   "id": "94eae199-5413-44d3-909b-d89a76f40dd8",
   "metadata": {},
   "outputs": [
    {
     "name": "stdout",
     "output_type": "stream",
     "text": [
      "15\n"
     ]
    }
   ],
   "source": [
    "def recursive_function(n):\n",
    "    if n == 0:\n",
    "        return 0\n",
    "    else:\n",
    "        return n + recursive_function(n-1)\n",
    "\n",
    "print(recursive_function(5))\n"
   ]
  },
  {
   "cell_type": "code",
   "execution_count": 4,
   "id": "c304fdb3-85e7-4c0a-ad99-c98c46fe0066",
   "metadata": {},
   "outputs": [],
   "source": [
    "#6Create a recursive Python function to find the greatest common divisor (GCD) of two numbers using the Euclidean algorithm.\n"
   ]
  },
  {
   "cell_type": "code",
   "execution_count": 5,
   "id": "7eb42631-2700-4ebc-8614-2cad9ba98b13",
   "metadata": {},
   "outputs": [
    {
     "name": "stdout",
     "output_type": "stream",
     "text": [
      "6\n"
     ]
    }
   ],
   "source": [
    "def gcd(a, b):\n",
    "    if b == 0:\n",
    "        return a\n",
    "    else:\n",
    "        return gcd(b, a % b)\n",
    "\n",
    "print(gcd(48, 18))\n"
   ]
  },
  {
   "cell_type": "code",
   "execution_count": 6,
   "id": "5e402c33-87ad-47f0-9e68-db4fd6466749",
   "metadata": {},
   "outputs": [],
   "source": [
    "#7Write a recursive Python function to reverse a string."
   ]
  },
  {
   "cell_type": "code",
   "execution_count": 9,
   "id": "3f002a6f-28d3-4f71-a8cf-a5d22de6930a",
   "metadata": {},
   "outputs": [
    {
     "name": "stdout",
     "output_type": "stream",
     "text": [
      "!dlroW ,olleH\n"
     ]
    }
   ],
   "source": [
    "def reverse_string(s):\n",
    "    if len(s) == 0:\n",
    "        return s\n",
    "    else:\n",
    "        return s[-1] + reverse_string(s[:-1])\n",
    "\n",
    "print(reverse_string(\"Hello, World!\")) \n"
   ]
  },
  {
   "cell_type": "code",
   "execution_count": 10,
   "id": "9d73ef69-f67d-411d-ad7c-97bd0449b36c",
   "metadata": {},
   "outputs": [],
   "source": [
    "#8Create a recursive Python function to calculate the power of a number (x^n)."
   ]
  },
  {
   "cell_type": "code",
   "execution_count": 12,
   "id": "525cb6aa-2776-4215-92d8-2110cf7f52c8",
   "metadata": {},
   "outputs": [
    {
     "name": "stdout",
     "output_type": "stream",
     "text": [
      "8\n"
     ]
    }
   ],
   "source": [
    "def power(x, n):\n",
    "    if n == 0:\n",
    "        return 1\n",
    "    else:\n",
    "        return x * power(x, n-1)\n",
    "\n",
    "print(power(2, 3))  \n"
   ]
  },
  {
   "cell_type": "code",
   "execution_count": 11,
   "id": "7e9a8a1f-875e-4d23-85cd-bb0d9dd3590a",
   "metadata": {},
   "outputs": [],
   "source": [
    "#9Write a recursive Python function to find all permutations of a given string."
   ]
  },
  {
   "cell_type": "code",
   "execution_count": 15,
   "id": "4b33ea91-a880-4d79-ab0d-41e3896243cc",
   "metadata": {},
   "outputs": [
    {
     "name": "stdout",
     "output_type": "stream",
     "text": [
      "abcd\n",
      "abdc\n",
      "acbd\n",
      "acdb\n",
      "adbc\n",
      "adcb\n",
      "bacd\n",
      "badc\n",
      "bcad\n",
      "bcda\n",
      "bdac\n",
      "bdca\n",
      "cabd\n",
      "cadb\n",
      "cbad\n",
      "cbda\n",
      "cdab\n",
      "cdba\n",
      "dabc\n",
      "dacb\n",
      "dbac\n",
      "dbca\n",
      "dcab\n",
      "dcba\n"
     ]
    }
   ],
   "source": [
    "def permute(s, answer=''):\n",
    "    if len(s) == 0:\n",
    "        print(answer)\n",
    "    else:\n",
    "        for i in range(len(s)):\n",
    "            choosen = s[i]\n",
    "            remaining = s[:i] + s[i+1:]\n",
    "            permute(remaining, answer + choosen)\n",
    "\n",
    "permute('abcd')\n"
   ]
  },
  {
   "cell_type": "code",
   "execution_count": 16,
   "id": "6bbfd659-930d-4238-80ca-0372a77bd296",
   "metadata": {},
   "outputs": [],
   "source": [
    "#10Write a recursive Python function to check if a string is a palindrome."
   ]
  },
  {
   "cell_type": "code",
   "execution_count": 17,
   "id": "d2cbd7b2-b095-4c5a-ba01-13b3799cc19a",
   "metadata": {},
   "outputs": [
    {
     "name": "stdout",
     "output_type": "stream",
     "text": [
      "True\n",
      "False\n"
     ]
    }
   ],
   "source": [
    "def is_palindrome(s):\n",
    "    if len(s) <= 1:\n",
    "        return True\n",
    "    else:\n",
    "        if s[0] == s[-1]:\n",
    "            return is_palindrome(s[1:-1])\n",
    "        else:\n",
    "            return False\n",
    "\n",
    "# Test the function\n",
    "print(is_palindrome(\"radar\"))  \n",
    "print(is_palindrome(\"hello\")) \n"
   ]
  },
  {
   "cell_type": "code",
   "execution_count": 18,
   "id": "e65e9fb3-b091-4461-b8da-6565dfba62ad",
   "metadata": {},
   "outputs": [],
   "source": [
    "#11Create a recursive Python function to generate all possible combinations of a list of elements."
   ]
  },
  {
   "cell_type": "code",
   "execution_count": 19,
   "id": "9290e50a-1e57-4fab-8da6-63315b8fe8f4",
   "metadata": {},
   "outputs": [
    {
     "name": "stdout",
     "output_type": "stream",
     "text": [
      "[[], [3], [2], [2, 3], [1], [1, 3], [1, 2], [1, 2, 3]]\n",
      "[[], [3], [2], [2, 3], [1], [1, 3], [1, 2], [1, 2, 3]]\n"
     ]
    }
   ],
   "source": [
    "def combinations(lst):\n",
    "    if len(lst) == 0:\n",
    "        return [[]]\n",
    "    else:\n",
    "        smaller = combinations(lst[1:])\n",
    "        return smaller + [[lst[0]] + comb for comb in smaller]\n",
    "\n",
    "print(combinations([1, 2, 3])) \n",
    "def combinations(lst):\n",
    "   \n",
    "    if len(lst) == 0:\n",
    "        return [[]]\n",
    "    else:\n",
    "       \n",
    "        smaller = combinations(lst[1:])\n",
    "        return smaller + [[lst[0]] + comb for comb in smaller]\n",
    "\n",
    "print(combinations([1, 2, 3])) \n"
   ]
  },
  {
   "cell_type": "code",
   "execution_count": 20,
   "id": "8be0f489-e8e5-4969-bdfc-a5f1a783fa59",
   "metadata": {},
   "outputs": [],
   "source": [
    "#Basics of Functions:\n",
    "#1What is a function in Python, and why is it used?\n"
   ]
  },
  {
   "cell_type": "code",
   "execution_count": 22,
   "id": "c873532c-83bf-4b15-91fc-46490811db91",
   "metadata": {},
   "outputs": [
    {
     "data": {
      "text/plain": [
       "\"A function in Python is a reusable block of code that performs a specific task. It is defined using the `def` keyword¹²³. Here's the basic syntax to define a function:\\n\\n```python\\ndef function_name(parameters):\\n    # function body\\n    return result\\n```\\n\\nFunctions are used for several reasons:\\n\\n1. **Code Reusability**: If you have a block of code that you use repeatedly, you can define it as a function and then call that function whenever you need to perform that task.\\n2. **Code Organization**: Functions allow you to break your program into smaller, modular chunks of code that are easier to manage and debug.\\n3. **Code Readability**: Well-named functions can make the program easier to read and understand.\\n\\nThere are two main types of functions in Python:\\n\\n1. **Built-in Functions**: These are standard functions in Python that are always available for use. Examples include `print()`, `len()`, `type()`, etc.\\n2. **User-Defined Functions**: These are functions that you define yourself to perform a specific task.\""
      ]
     },
     "execution_count": 22,
     "metadata": {},
     "output_type": "execute_result"
    }
   ],
   "source": [
    "\"\"\"A function in Python is a reusable block of code that performs a specific task. It is defined using the `def` keyword¹²³. Here's the basic syntax to define a function:\n",
    "\n",
    "```python\n",
    "def function_name(parameters):\n",
    "    # function body\n",
    "    return result\n",
    "```\n",
    "\n",
    "Functions are used for several reasons:\n",
    "\n",
    "1. **Code Reusability**: If you have a block of code that you use repeatedly, you can define it as a function and then call that function whenever you need to perform that task.\n",
    "2. **Code Organization**: Functions allow you to break your program into smaller, modular chunks of code that are easier to manage and debug.\n",
    "3. **Code Readability**: Well-named functions can make the program easier to read and understand.\n",
    "\n",
    "There are two main types of functions in Python:\n",
    "\n",
    "1. **Built-in Functions**: These are standard functions in Python that are always available for use. Examples include `print()`, `len()`, `type()`, etc.\n",
    "2. **User-Defined Functions**: These are functions that you define yourself to perform a specific task.\"\"\"\n",
    "\n",
    "\n"
   ]
  },
  {
   "cell_type": "code",
   "execution_count": 23,
   "id": "84e8215f-ed85-42c4-9d72-ad430f50a857",
   "metadata": {},
   "outputs": [],
   "source": [
    "#2How do you define a function in Python? Provide an example."
   ]
  },
  {
   "cell_type": "code",
   "execution_count": 24,
   "id": "0edacb6f-342f-4e97-bb17-156598a825a2",
   "metadata": {},
   "outputs": [],
   "source": [
    "#In Python, a function is a reusable block of code that performs a specific task12. You can define a function using the def keyword12. Here’s the basic syntax to define a function:\n",
    "def function_name(parameters):\n",
    "    return result\n"
   ]
  },
  {
   "cell_type": "code",
   "execution_count": 25,
   "id": "0ddf4f5c-a7c4-47e5-9629-08d6c6082bc3",
   "metadata": {},
   "outputs": [],
   "source": [
    "#3Explain the difference between a function definition and a function call."
   ]
  },
  {
   "cell_type": "code",
   "execution_count": 26,
   "id": "2ae20056-9a00-4328-a2b3-b573762e447e",
   "metadata": {},
   "outputs": [
    {
     "data": {
      "text/plain": [
       "'In Python, a **function definition** and a **function call** are two fundamental concepts¹²³⁴.\\n\\n1. **Function Definition**: This is the process of creating a function using the `def` keyword¹². The function definition includes the function name, parameters (if any), and the block of code that the function will execute when called¹². Here\\'s an example of a function definition:\\n\\n    ```python\\n    def greet(name):\\n        return \"Hello, \" + name\\n    ```\\n\\n    In this example, `greet` is the function name, `name` is the parameter, and `\"Hello, \" + name` is the code that will be executed when the function is called¹².\\n\\n2. **Function Call**: This is the process of invoking or using a function¹². You call a function by using its name followed by parentheses containing any arguments that the function requires¹². Here\\'s an example of a function call:\\n\\n    ```python\\n    print(greet(\"Alice\"))  # Output: Hello, Alice\\n    ```\\n\\n    In this example, `greet(\"Alice\")` is a function call¹². The function `greet` is being called with the argument `\"Alice\"`'"
      ]
     },
     "execution_count": 26,
     "metadata": {},
     "output_type": "execute_result"
    }
   ],
   "source": [
    "\"\"\"In Python, a **function definition** and a **function call** are two fundamental concepts.\n",
    "\n",
    "1. **Function Definition**: This is the process of creating a function using the `def` keyword. The function definition includes the function name, parameters (if any), and the block of code that the function will execute when called. Here's an example of a function definition:\n",
    "\n",
    "    ```python\n",
    "    def greet(name):\n",
    "        return \"Hello, \" + name\n",
    "    ```\n",
    "\n",
    "    In this example, `greet` is the function name, `name` is the parameter, and `\"Hello, \" + name` is the code that will be executed when the function is called.\n",
    "\n",
    "2. **Function Call**: This is the process of invoking or using a function¹². You call a function by using its name followed by parentheses containing any arguments that the function requires. Here's an example of a function call:\n",
    "\n",
    "    ```python\n",
    "    print(greet(\"Alice\"))  # Output: Hello, Alice\n",
    "    ```\n",
    "\n",
    "    In this example, `greet(\"Alice\")` is a function call¹². The function `greet` is being called with the argument `\"Alice\"`\"\"\"\n"
   ]
  },
  {
   "cell_type": "code",
   "execution_count": 27,
   "id": "7bf8ec4b-0be2-4054-b581-bd088f5d18e6",
   "metadata": {},
   "outputs": [],
   "source": [
    "#4Write a Python program that defines a function to calculate the sum of two numbers and then calls the function."
   ]
  },
  {
   "cell_type": "code",
   "execution_count": 30,
   "id": "bc546264-4650-481d-8de5-aac82ef0f74f",
   "metadata": {},
   "outputs": [
    {
     "name": "stdout",
     "output_type": "stream",
     "text": [
      "The sum of 3 and 5 is 8\n"
     ]
    }
   ],
   "source": [
    "def add_numbers(num1, num2):\n",
    "    return num1 + num2\n",
    "\n",
    "sum = add_numbers(3, 5)\n",
    "\n",
    "print(\"The sum of 3 and 5 is\", sum) \n"
   ]
  },
  {
   "cell_type": "code",
   "execution_count": 28,
   "id": "cc105142-2eb9-4f50-96a4-eb4bc72b2cc4",
   "metadata": {},
   "outputs": [],
   "source": [
    "#5What is a function signature, and what information does it typically include?"
   ]
  },
  {
   "cell_type": "code",
   "execution_count": 34,
   "id": "b1e75f6a-20a7-43de-8b58-22c30c5ce1dc",
   "metadata": {},
   "outputs": [],
   "source": [
    "'''A function signature in Python is a set of rules defining the way a function should be declared. It provides crucial information about the function. Here’s what a function signature typically includes:\n",
    "\n",
    "Function Name: The unique identifier used to call the function.\n",
    "Parameters: The inputs that the function can accept. These are placed within the parentheses following the function name.\n",
    "Return Type: The type of data that the function returns1234. This is typically indicated after the parameters.'''\n",
    "def add_numbers(num1: int, num2: int) -> int:\n",
    "    return num1 + num2\n"
   ]
  },
  {
   "cell_type": "code",
   "execution_count": 29,
   "id": "6b266de0-9ca8-4b7b-b9e0-3a252b86b98d",
   "metadata": {},
   "outputs": [],
   "source": [
    "#6Create a Python function that takes two arguments and returns their product."
   ]
  },
  {
   "cell_type": "code",
   "execution_count": 35,
   "id": "7c770079-f0b9-4adf-a509-21f15e72de95",
   "metadata": {},
   "outputs": [
    {
     "name": "stdout",
     "output_type": "stream",
     "text": [
      "The product of 3 and 5 is 15\n"
     ]
    }
   ],
   "source": [
    "def pro_numbers(num1, num2):\n",
    "    return num1 * num2\n",
    "\n",
    "pro = pro_numbers(3, 5)\n",
    "\n",
    "print(\"The product of 3 and 5 is\", pro)"
   ]
  },
  {
   "cell_type": "code",
   "execution_count": 31,
   "id": "1567ad60-335b-4f96-bc92-f4fb9d8c78b7",
   "metadata": {},
   "outputs": [],
   "source": [
    "#Function Parameters and Arguments:\n",
    "#1Explain the concepts of formal parameters and actual arguments in Python functions.\n"
   ]
  },
  {
   "cell_type": "code",
   "execution_count": 36,
   "id": "4c17bbf0-57ac-4415-9449-f905475c553a",
   "metadata": {},
   "outputs": [
    {
     "data": {
      "text/plain": [
       "\"In Python, **formal parameters** and **actual arguments** are two key concepts related to functions:\\n\\n1. **Formal Parameters**: These are the parameters that are specified during the definition of the function. For example, in the function definition `def sum(a, b): return a + b`, `a` and `b` are the formal parameters.\\n\\n2. **Actual Arguments**: These are the values or variables that are specified during the function call. For example, in the function call `sum(3, 5)`, `3` and `5` are the actual arguments.\\n\\nActual arguments can be of four types:\\n\\n- **Positional Arguments**: These are the parameters that are passed to the function in the correct positional order.\\n- **Keyword Arguments**: These are the parameters that are identified by their specified name.\\n- **Default Arguments**: These are the parameters that have default values provided while defining functions.\\n- **Variable Length Arguments**: These are the parameters that allow a function to take any number of arguments.\\n\\nHere's an example to illustrate these concepts:\\n\\n```python\\n# Function definition with formal parameters 'a' and 'b'\\ndef sum(a, b):\\n    return a + b\\n\\n# Function call with actual arguments 3 and 5\\nresult = sum(3, 5)\\nprint(result)  # Output: 8\\n```\\n\\nIn this example, `a` and `b` are the formal parameters, and `3` and `5` are the actual arguments\""
      ]
     },
     "execution_count": 36,
     "metadata": {},
     "output_type": "execute_result"
    }
   ],
   "source": [
    "'''In Python, **formal parameters** and **actual arguments** are two key concepts related to functions:\n",
    "\n",
    "1. **Formal Parameters**: These are the parameters that are specified during the definition of the function. For example, in the function definition `def sum(a, b): return a + b`, `a` and `b` are the formal parameters.\n",
    "\n",
    "2. **Actual Arguments**: These are the values or variables that are specified during the function call. For example, in the function call `sum(3, 5)`, `3` and `5` are the actual arguments.\n",
    "\n",
    "Actual arguments can be of four types:\n",
    "\n",
    "- **Positional Arguments**: These are the parameters that are passed to the function in the correct positional order.\n",
    "- **Keyword Arguments**: These are the parameters that are identified by their specified name.\n",
    "- **Default Arguments**: These are the parameters that have default values provided while defining functions.\n",
    "- **Variable Length Arguments**: These are the parameters that allow a function to take any number of arguments.\n",
    "\n",
    "Here's an example to illustrate these concepts:\n",
    "\n",
    "```python\n",
    "# Function definition with formal parameters 'a' and 'b'\n",
    "def sum(a, b):\n",
    "    return a + b\n",
    "\n",
    "# Function call with actual arguments 3 and 5\n",
    "result = sum(3, 5)\n",
    "print(result)  # Output: 8\n",
    "```\n",
    "\n",
    "In this example, `a` and `b` are the formal parameters, and `3` and `5` are the actual arguments'''"
   ]
  },
  {
   "cell_type": "code",
   "execution_count": 37,
   "id": "aefb8a93-a65d-4b8c-bb24-96d58d415b47",
   "metadata": {},
   "outputs": [],
   "source": [
    "#2Write a Python program that defines a function with default argument values"
   ]
  },
  {
   "cell_type": "code",
   "execution_count": 38,
   "id": "208c7332-b61c-4d4e-a3d4-28ffab6f5613",
   "metadata": {},
   "outputs": [
    {
     "name": "stdout",
     "output_type": "stream",
     "text": [
      "8\n",
      "3\n",
      "0\n"
     ]
    }
   ],
   "source": [
    "def add_numbers(a=0, b=0):\n",
    "    return a + b\n",
    "\n",
    "print(add_numbers(3, 5))  \n",
    "print(add_numbers(3))     \n",
    "print(add_numbers())  \n"
   ]
  },
  {
   "cell_type": "code",
   "execution_count": 39,
   "id": "149da8c7-6930-473a-b071-b58ad4969bbc",
   "metadata": {},
   "outputs": [],
   "source": [
    "#3How do you use keyword arguments in Python function calls? Provide an example."
   ]
  },
  {
   "cell_type": "code",
   "execution_count": 40,
   "id": "3e5f8657-9175-428d-b0cf-bbd0d693ddd0",
   "metadata": {},
   "outputs": [
    {
     "name": "stdout",
     "output_type": "stream",
     "text": [
      "First Name: Eric\n",
      "Last Name: Cartman\n"
     ]
    }
   ],
   "source": [
    "#In Python, keyword arguments are arguments that are identified by their parameter name when passed into a function. This means you can specify which parameter gets which argument by using the parameter’s name, rather than relying on the argument’s position This can make your code more readable and less prone to errors\n",
    "def display_info(first_name, last_name):\n",
    "    print('First Name:', first_name)\n",
    "    print('Last Name:', last_name)\n",
    "\n",
    "display_info(last_name='Cartman', first_name='Eric')\n"
   ]
  },
  {
   "cell_type": "code",
   "execution_count": 41,
   "id": "92b343b8-bd99-4642-af6d-a4ec2da2bbe1",
   "metadata": {},
   "outputs": [],
   "source": [
    "#4Create a Python function that accepts a variable number of arguments and calculates their sum"
   ]
  },
  {
   "cell_type": "code",
   "execution_count": 1,
   "id": "a97c3da6-e1e9-46a5-89a6-551819cb1506",
   "metadata": {},
   "outputs": [
    {
     "name": "stdout",
     "output_type": "stream",
     "text": [
      "15\n"
     ]
    }
   ],
   "source": [
    "def calculate_sum(*args):\n",
    "    return sum(args)\n",
    "\n",
    "print(calculate_sum(1, 2, 3, 4, 5))  \n",
    "\n"
   ]
  },
  {
   "cell_type": "code",
   "execution_count": 2,
   "id": "e8a0748d-01d3-467b-bbc6-473676e16039",
   "metadata": {},
   "outputs": [],
   "source": [
    "#5What is the purpose of the `*args` and `**kwargs` syntax in function parameter lists?"
   ]
  },
  {
   "cell_type": "code",
   "execution_count": null,
   "id": "342b4fc1-e058-4d14-9bae-e2e6656fc8e3",
   "metadata": {},
   "outputs": [],
   "source": [
    "The `*args` and `**kwargs` syntax in Python function parameter lists is used to pass a variable number of arguments to a function.\n",
    "\n",
    "1. `*args` is used to pass a variable number of non-keyworded arguments to a function. These arguments are received in the function as a tuple. Here's an example:\n",
    "\n",
    "    ```python\n",
    "    def myFun(*args): \n",
    "        for arg in args: \n",
    "            print(arg)\n",
    "\n",
    "    myFun('Hello', 'Welcome', 'to', 'GeeksforGeeks')\n",
    "    ```\n",
    "\n",
    "    In this example, `*args` allows you to pass any number of positional arguments to the function `myFun`, and inside the function, `args` is a tuple containing all of the passed arguments.\n",
    "\n",
    "2. `**kwargs` is used to pass a variable number of keyword arguments to a function. These arguments are received in the function as a dictionary. Here's an example:\n",
    "\n",
    "    ```python\n",
    "    def myFun(**kwargs): \n",
    "        for key, value in kwargs.items():\n",
    "            print (\"%s == %s\" %(key, value))\n",
    "\n",
    "    myFun(first ='Geeks', mid ='for', last='Geeks') \n",
    "    ```\n",
    "\n",
    "    In this example, `**kwargs` allows you to pass any number of keyword arguments to the function `myFun`, and inside the function, `kwargs` is a dictionary containing all of the passed keyword arguments'''\n"
   ]
  },
  {
   "cell_type": "code",
   "execution_count": 3,
   "id": "0aaa0cbe-b69a-4604-99e5-5dfd113c4760",
   "metadata": {},
   "outputs": [],
   "source": [
    "#Return Values and Scoping:\n",
    "#1 Describe the role of the `return` statement in Python functions and provide examples.\n"
   ]
  },
  {
   "cell_type": "code",
   "execution_count": 4,
   "id": "be9b8c89-36b4-4835-977d-bd76ad7ca4d2",
   "metadata": {},
   "outputs": [
    {
     "data": {
      "text/plain": [
       "'In Python, the `return` statement is used inside a function or method to send the function\\'s result back to the caller. The `return` statement consists of the `return` keyword followed by an optional return value. The return value of a Python function can be any Python object.\\n\\nHere are a few examples:\\n\\n1. **Returning a Single Value**:\\n    ```python\\n    def add(a, b):\\n        return a + b\\n\\n    result = add(5, 3)\\n    print(result)  # Output: 8\\n    ```\\n    In this example, the `add` function returns the sum of `a` and `b`.\\n\\n2. **Returning Multiple Values**:\\n    ```python\\n    def get_details():\\n        name = \"Alice\"\\n        age = 25\\n        return name, age  # returns a tuple\\n\\n    person_name, person_age = get_details()\\n    print(person_name)  # Output: Alice\\n    print(person_age)   # Output: 25\\n    ```\\n    In this example, the `get_details` function returns multiple values (name and age) as a tuple.\\n\\n3. **Returning a Function**:\\n    ```python\\n    def outer_function(x):\\n        def inner_function(y):\\n            return x + y\\n        return inner_function\\n\\n    add_5 = outer_function(5)\\n    print(add_5(3))  # Output: 8\\n    ```\\n    In this example, the `outer_function` returns another function `inner_function`'"
      ]
     },
     "execution_count": 4,
     "metadata": {},
     "output_type": "execute_result"
    }
   ],
   "source": [
    "'''In Python, the `return` statement is used inside a function or method to send the function's result back to the caller. The `return` statement consists of the `return` keyword followed by an optional return value. The return value of a Python function can be any Python object.\n",
    "\n",
    "Here are a few examples:\n",
    "\n",
    "1. **Returning a Single Value**:\n",
    "    ```python\n",
    "    def add(a, b):\n",
    "        return a + b\n",
    "\n",
    "    result = add(5, 3)\n",
    "    print(result)  # Output: 8\n",
    "    ```\n",
    "    In this example, the `add` function returns the sum of `a` and `b`.\n",
    "\n",
    "2. **Returning Multiple Values**:\n",
    "    ```python\n",
    "    def get_details():\n",
    "        name = \"Alice\"\n",
    "        age = 25\n",
    "        return name, age  # returns a tuple\n",
    "\n",
    "    person_name, person_age = get_details()\n",
    "    print(person_name)  # Output: Alice\n",
    "    print(person_age)   # Output: 25\n",
    "    ```\n",
    "    In this example, the `get_details` function returns multiple values (name and age) as a tuple.\n",
    "\n",
    "3. **Returning a Function**:\n",
    "    ```python\n",
    "    def outer_function(x):\n",
    "        def inner_function(y):\n",
    "            return x + y\n",
    "        return inner_function\n",
    "\n",
    "    add_5 = outer_function(5)\n",
    "    print(add_5(3))  # Output: 8\n",
    "    ```\n",
    "    In this example, the `outer_function` returns another function `inner_function`'''"
   ]
  },
  {
   "cell_type": "code",
   "execution_count": 5,
   "id": "4cfaae9c-d135-4b55-9dba-cf4d746c16e8",
   "metadata": {},
   "outputs": [],
   "source": [
    "#3Write a Python program that demonstrates the use of global variables within functions."
   ]
  },
  {
   "cell_type": "code",
   "execution_count": null,
   "id": "91173a13-9e43-4d40-b1d6-75d21c7a966b",
   "metadata": {},
   "outputs": [],
   "source": [
    "'''In Python, the **scope** of a variable refers to the region in the code where a variable is accessible. There are two main types of variable scope: **local** and **global**.\n",
    "\n",
    "1. **Local Variables**: These are variables that are defined inside a function¹²³⁴. Their scope is limited to that function only. They cannot be accessed outside the function. Here's an example:\n",
    "\n",
    "    ```python\n",
    "    def greet():\n",
    "        # local variable\n",
    "        message = 'Hello'\n",
    "        print('Local', message)\n",
    "\n",
    "    greet()  # prints: Local Hello\n",
    "    ```\n",
    "\n",
    "    In this example, `message` is a local variable. It is only accessible within the `greet` function.\n",
    "\n",
    "2. **Global Variables**: These are variables that are defined outside of any function. They are accessible throughout the program, i.e., inside and outside of every function. Here's an example:\n",
    "\n",
    "    ```python\n",
    "    # global variable\n",
    "    message = 'Hello'\n",
    "\n",
    "    def greet():\n",
    "        print('Global', message)\n",
    "\n",
    "    greet()  # prints: Global Hello\n",
    "    print('Outside Function', message)  # prints: Outside Function Hello\n",
    "    ```\n",
    "\n",
    "    In this example, `message` is a global variable. It is accessible both inside the `greet` function and outside the function'''"
   ]
  },
  {
   "cell_type": "code",
   "execution_count": null,
   "id": "19ff1f87-5200-4f8c-99c2-9023e6a2745e",
   "metadata": {},
   "outputs": [],
   "source": [
    "#4Create a Python function that calculates the factorial of a number and returns it"
   ]
  },
  {
   "cell_type": "code",
   "execution_count": 6,
   "id": "d40cd73e-9711-412c-bba1-362235fdfea6",
   "metadata": {},
   "outputs": [
    {
     "name": "stdout",
     "output_type": "stream",
     "text": [
      "120\n"
     ]
    }
   ],
   "source": [
    "def factorial(n):\n",
    "    if n == 0:\n",
    "        return 1\n",
    "    else:\n",
    "        return n * factorial(n-1)\n",
    "\n",
    "print(factorial(5)) \n",
    "\n"
   ]
  },
  {
   "cell_type": "code",
   "execution_count": 7,
   "id": "05f23e11-e130-440f-ab09-a385634ea077",
   "metadata": {},
   "outputs": [],
   "source": [
    "#5How can you access variables defined outside a function from within the function?"
   ]
  },
  {
   "cell_type": "code",
   "execution_count": 9,
   "id": "a2e30ea4-b0b8-404a-b6f1-d49eab333f6a",
   "metadata": {},
   "outputs": [
    {
     "name": "stdout",
     "output_type": "stream",
     "text": [
      "The value of x is 10\n"
     ]
    }
   ],
   "source": [
    "#In Python, variables defined outside a function are known as global variables. These variables can be accessed both inside and outside of any function\n",
    "x = 10  \n",
    "\n",
    "def showX():\n",
    "    print(\"The value of x is\", x)\n",
    "\n",
    "showX() \n"
   ]
  },
  {
   "cell_type": "code",
   "execution_count": 10,
   "id": "867a0c47-570b-4e4a-9369-909ddaf71f57",
   "metadata": {},
   "outputs": [],
   "source": [
    "#Lambda Functions and Higher-Order Functions:\n",
    "#1What are lambda functions in Python, and when are they typically used?"
   ]
  },
  {
   "cell_type": "code",
   "execution_count": 11,
   "id": "f59bc5c0-1abc-4a18-8f92-bab0bd760783",
   "metadata": {},
   "outputs": [
    {
     "data": {
      "text/plain": [
       "'In Python, **lambda functions**, also known as **anonymous functions**, are small, single-use functions that are defined using the `lambda` keyword. They can take any number of arguments but can only have one expression. The syntax for a lambda function is: `lambda arguments: expression`\\n\\nLambda functions are typically used when you need a small, simple function for a short period of time. They are often used in combination with functions like `map()`, `filter()`, and `reduce()`³, and in situations where passing a function as an argument to another function is required.\\n\\nHere are a few examples:\\n\\n1. **Lambda with one argument**:\\n    ```python\\n    x = lambda a: a + 10\\n    print(x(5))  # Output: 15\\n    ```\\n    This lambda function takes one argument `a` and returns `a + 10`.\\n\\n2. **Lambda with multiple arguments**:\\n    ```python\\n    x = lambda a, b, c: a + b + c\\n    print(x(5, 6, 2))  \\n    ```\\n    This lambda function takes three arguments `a`, `b`, and `c`, and returns their sum.\\n\\n3. **Lambda used inside another function**:\\n    ```python\\n    def myfunc(n):\\n    \\n        return lambda a: a * n\\n\\n    mydoubler = myfunc(2)\\n    print(mydoubler(11))  \\n    ```\\n    In this example, `myfunc` is a function that takes one argument `n`, and returns a lambda function that multiplies `n` by its argument `a`.'"
      ]
     },
     "execution_count": 11,
     "metadata": {},
     "output_type": "execute_result"
    }
   ],
   "source": [
    "'''In Python, **lambda functions**, also known as **anonymous functions**, are small, single-use functions that are defined using the `lambda` keyword. They can take any number of arguments but can only have one expression. The syntax for a lambda function is: `lambda arguments: expression`\n",
    "\n",
    "Lambda functions are typically used when you need a small, simple function for a short period of time. They are often used in combination with functions like `map()`, `filter()`, and `reduce()`³, and in situations where passing a function as an argument to another function is required.\n",
    "\n",
    "Here are a few examples:\n",
    "\n",
    "1. **Lambda with one argument**:\n",
    "    ```python\n",
    "    x = lambda a: a + 10\n",
    "    print(x(5))  # Output: 15\n",
    "    ```\n",
    "    This lambda function takes one argument `a` and returns `a + 10`.\n",
    "\n",
    "2. **Lambda with multiple arguments**:\n",
    "    ```python\n",
    "    x = lambda a, b, c: a + b + c\n",
    "    print(x(5, 6, 2))  \n",
    "    ```\n",
    "    This lambda function takes three arguments `a`, `b`, and `c`, and returns their sum.\n",
    "\n",
    "3. **Lambda used inside another function**:\n",
    "    ```python\n",
    "    def myfunc(n):\n",
    "    \n",
    "        return lambda a: a * n\n",
    "\n",
    "    mydoubler = myfunc(2)\n",
    "    print(mydoubler(11))  \n",
    "    ```\n",
    "    In this example, `myfunc` is a function that takes one argument `n`, and returns a lambda function that multiplies `n` by its argument `a`.'''\n"
   ]
  },
  {
   "cell_type": "code",
   "execution_count": 12,
   "id": "49987523-b869-473d-9164-226ec2d0ec6a",
   "metadata": {},
   "outputs": [],
   "source": [
    "#2Write a Python program that uses lambda functions to sort a list of tuples based on the second element."
   ]
  },
  {
   "cell_type": "code",
   "execution_count": 13,
   "id": "d4d16ca3-1db0-41fe-94db-ba2d6720c09f",
   "metadata": {},
   "outputs": [
    {
     "name": "stdout",
     "output_type": "stream",
     "text": [
      "[(5, 'v'), (4, 'w'), (3, 'x'), (2, 'y'), (1, 'z')]\n"
     ]
    }
   ],
   "source": [
    "tuples_list = [(1, 'z'), (2, 'y'), (3, 'x'), (4, 'w'), (5, 'v')]\n",
    "\n",
    "sorted_list = sorted(tuples_list, key=lambda x: x[1])\n",
    "\n",
    "print(sorted_list) \n"
   ]
  },
  {
   "cell_type": "code",
   "execution_count": 14,
   "id": "4401e774-5fcb-4452-8310-dc9a01180824",
   "metadata": {},
   "outputs": [],
   "source": [
    "#3Explain the concept of higher-order functions in Python, and provide an example."
   ]
  },
  {
   "cell_type": "code",
   "execution_count": 15,
   "id": "7d5bc751-e965-4b4a-b079-133a3bb1d798",
   "metadata": {},
   "outputs": [
    {
     "data": {
      "text/plain": [
       "'In Python, a function is called a **Higher Order Function** if it contains other functions as a parameter or returns a function as an output¹². In other words, the functions that operate with another function are known as Higher Order Functions¹². This concept is applicable for functions and methods as well that take functions as a parameter or return a function as a result¹².\\n\\nHere are some properties of higher-order functions:\\n- A function is an instance of the Object type.\\n- You can store the function in a variable.\\n- You can pass the function as a parameter to another function.\\n- You can return the function from a function.\\n- You can store them in data structures such as hash tables, lists, etc.\\n\\nHere are some examples of higher-order functions:\\n\\n1. **Passing Function as an Argument to Other Function**:\\n    ```python\\n    def shout(text):\\n        return text.upper()\\n\\n    def whisper(text):\\n        return text.lower()\\n\\n    def greet(func):\\n        greeting = func(\"Hi, I am created by a function passed as an argument.\")\\n        print(greeting)\\n\\n    greet(shout)\\n    greet(whisper)\\n    ```\\n    In this example, the `greet` function takes another function (`shout` or `whisper`) as an argument¹².\\n\\n2. **Returning a Function**:\\n    ```python\\n    def create_adder(x):\\n        def adder(y):\\n            return x + y\\n        return adder\\n\\n    add_15 = create_adder(15)\\n    print(add_15(10))  # Output: 25\\n    ```\\n    In this example, the `create_adder` function returns another function (`adder`)¹²\\\\.\\n\\nRemember, decorators are the most common use of higher-order functions in Python. They allow programmers to modify the behavior of a function or class. Decorators allow us to wrap another function in order to extend the behavior of the wrapped function, without permanently modifying it'"
      ]
     },
     "execution_count": 15,
     "metadata": {},
     "output_type": "execute_result"
    }
   ],
   "source": [
    "'''In Python, a function is called a **Higher Order Function** if it contains other functions as a parameter or returns a function as an output¹². In other words, the functions that operate with another function are known as Higher Order Functions¹². This concept is applicable for functions and methods as well that take functions as a parameter or return a function as a result¹².\n",
    "\n",
    "Here are some properties of higher-order functions:\n",
    "- A function is an instance of the Object type.\n",
    "- You can store the function in a variable.\n",
    "- You can pass the function as a parameter to another function.\n",
    "- You can return the function from a function.\n",
    "- You can store them in data structures such as hash tables, lists, etc.\n",
    "\n",
    "Here are some examples of higher-order functions:\n",
    "\n",
    "1. **Passing Function as an Argument to Other Function**:\n",
    "    ```python\n",
    "    def shout(text):\n",
    "        return text.upper()\n",
    "\n",
    "    def whisper(text):\n",
    "        return text.lower()\n",
    "\n",
    "    def greet(func):\n",
    "        greeting = func(\"Hi, I am created by a function passed as an argument.\")\n",
    "        print(greeting)\n",
    "\n",
    "    greet(shout)\n",
    "    greet(whisper)\n",
    "    ```\n",
    "    In this example, the `greet` function takes another function (`shout` or `whisper`) as an argument¹².\n",
    "\n",
    "2. **Returning a Function**:\n",
    "    ```python\n",
    "    def create_adder(x):\n",
    "        def adder(y):\n",
    "            return x + y\n",
    "        return adder\n",
    "\n",
    "    add_15 = create_adder(15)\n",
    "    print(add_15(10))  # Output: 25\n",
    "    ```\n",
    "    In this example, the `create_adder` function returns another function (`adder`)¹²\\.\n",
    "\n",
    "Remember, decorators are the most common use of higher-order functions in Python. They allow programmers to modify the behavior of a function or class. Decorators allow us to wrap another function in order to extend the behavior of the wrapped function, without permanently modifying it'''"
   ]
  },
  {
   "cell_type": "code",
   "execution_count": 16,
   "id": "3ea5b084-d8e9-42aa-b09b-2535267acf39",
   "metadata": {},
   "outputs": [],
   "source": [
    "#4Create a Python function that takes a list of numbers and a function as arguments, applying the function to each element in the list"
   ]
  },
  {
   "cell_type": "code",
   "execution_count": 18,
   "id": "b8cd1ee5-7450-4441-8f45-bae9d81749c0",
   "metadata": {},
   "outputs": [
    {
     "name": "stdout",
     "output_type": "stream",
     "text": [
      "[1, 4, 9, 16, 25]\n"
     ]
    }
   ],
   "source": [
    "def apply_function_to_list(func, lst):\n",
    "    return [func(i) for i in lst]\n",
    "\n",
    "numbers = [1, 2, 3, 4, 5]\n",
    "print(apply_function_to_list(lambda x: x**2, numbers))"
   ]
  },
  {
   "cell_type": "code",
   "execution_count": 17,
   "id": "c4d7cf88-4b10-47fa-abd8-5ccfac8d9edd",
   "metadata": {},
   "outputs": [],
   "source": [
    "#Built-in Functions:\n",
    "#1Describe the role of built-in functions like `len()`, `max()`, and `min()` in Python."
   ]
  },
  {
   "cell_type": "code",
   "execution_count": 20,
   "id": "75ef5fff-7d4a-487d-b01a-49b9c814de48",
   "metadata": {},
   "outputs": [
    {
     "data": {
      "text/plain": [
       "'In Python, `len()`, `max()`, and `min()` are built-in functions that are always available and provide essential functionality\\n\\n1. **`len()`**: This function returns the number of elements in a sequence. For example, `len([1, 2, 3, 4, 5])` would return `5\\n\\n2. **`max()`**: This function returns the largest item in an iterable or the largest of two or more arguments For example, `max([1, 2, 3, 4, 5])` would return `5\\n\\n3. **`min()`**: This function returns the smallest item in an iterable or the smallest of two or more arguments For example, `min([1, 2, 3, 4, 5])` would return `1\\n\\nThese functions are commonly used in a wide range of programming tasks, such as data analysis, algorithm development, and more. They provide a quick and efficient way to perform these operations without having to write additional code'"
      ]
     },
     "execution_count": 20,
     "metadata": {},
     "output_type": "execute_result"
    }
   ],
   "source": [
    "'''In Python, `len()`, `max()`, and `min()` are built-in functions that are always available and provide essential functionality\n",
    "\n",
    "1. **`len()`**: This function returns the number of elements in a sequence. For example, `len([1, 2, 3, 4, 5])` would return `5\n",
    "\n",
    "2. **`max()`**: This function returns the largest item in an iterable or the largest of two or more arguments For example, `max([1, 2, 3, 4, 5])` would return `5\n",
    "\n",
    "3. **`min()`**: This function returns the smallest item in an iterable or the smallest of two or more arguments For example, `min([1, 2, 3, 4, 5])` would return `1\n",
    "\n",
    "These functions are commonly used in a wide range of programming tasks, such as data analysis, algorithm development, and more. They provide a quick and efficient way to perform these operations without having to write additional code'''"
   ]
  },
  {
   "cell_type": "code",
   "execution_count": 21,
   "id": "8eae240a-04f7-41f8-80b2-62c12df4a541",
   "metadata": {},
   "outputs": [],
   "source": [
    "#2Write a Python program that uses the `map()` function to apply a function to each element of a list"
   ]
  },
  {
   "cell_type": "code",
   "execution_count": 23,
   "id": "44ccad23-64e8-4d24-a091-5e7328f402ba",
   "metadata": {},
   "outputs": [
    {
     "name": "stdout",
     "output_type": "stream",
     "text": [
      "[1, 4, 9, 16, 25]\n"
     ]
    }
   ],
   "source": [
    "def square(n):\n",
    "    return n**2\n",
    "\n",
    "numbers = [1, 2, 3, 4, 5]\n",
    "\n",
    "squares = map(square, numbers)\n",
    "\n",
    "print(list(squares)) \n"
   ]
  },
  {
   "cell_type": "code",
   "execution_count": 22,
   "id": "039b3e38-27db-4ee4-b452-605c7b597846",
   "metadata": {},
   "outputs": [],
   "source": [
    "#3How does the `filter()` function work in Python, and when would you use it?"
   ]
  },
  {
   "cell_type": "code",
   "execution_count": 27,
   "id": "193dada5-197f-4b1b-8c4d-67d9132a7b0e",
   "metadata": {},
   "outputs": [
    {
     "name": "stdout",
     "output_type": "stream",
     "text": [
      "[1, 3, 5, 13]\n",
      "[0, 2, 8]\n"
     ]
    }
   ],
   "source": [
    "seq = [0, 1, 2, 3, 5, 8, 13]\n",
    "\n",
    "result = filter(lambda x: x % 2 != 0, seq)\n",
    "print(list(result))\n",
    "\n",
    "result = filter(lambda x: x % 2 == 0, seq)\n",
    "print(list(result))\n",
    "#The filter() function is commonly used when you want to get a subset of elements from a sequence that satisfy a certain condition. It’s a clean and efficient way to filter out elements without having to write a loop. It’s especially useful when combined with other functional programming functions like map() and reduce()"
   ]
  },
  {
   "cell_type": "code",
   "execution_count": 24,
   "id": "b2d9b245-c7c4-4feb-8d77-881e7e5d62d7",
   "metadata": {},
   "outputs": [],
   "source": [
    "#4Create a Python program that uses the `reduce()` function to find the product of all elements in a list"
   ]
  },
  {
   "cell_type": "code",
   "execution_count": 28,
   "id": "8e6eb616-b2a9-4e11-8ea8-9c396252b7e4",
   "metadata": {},
   "outputs": [
    {
     "name": "stdout",
     "output_type": "stream",
     "text": [
      "The product of all elements in the list is: 120\n"
     ]
    }
   ],
   "source": [
    "from functools import reduce\n",
    "\n",
    "numbers = [1, 2, 3, 4, 5]\n",
    "product = reduce(lambda x, y: x * y, numbers)\n",
    "\n",
    "print(f\"The product of all elements in the list is: {product}\")\n"
   ]
  },
  {
   "cell_type": "code",
   "execution_count": 25,
   "id": "e91b736e-8278-43ce-a087-e2c672ed334f",
   "metadata": {},
   "outputs": [],
   "source": [
    "#Function Documentation and Best Practices:\n",
    "#1Explain the purpose of docstrings in Python functions and how to write them."
   ]
  },
  {
   "cell_type": "code",
   "execution_count": 29,
   "id": "96edc52a-0b35-49a6-b29e-d764f1820c4e",
   "metadata": {},
   "outputs": [
    {
     "ename": "SyntaxError",
     "evalue": "invalid syntax (3195186016.py, line 5)",
     "output_type": "error",
     "traceback": [
      "\u001b[0;36m  Cell \u001b[0;32mIn[29], line 5\u001b[0;36m\u001b[0m\n\u001b[0;31m    '''Takes in a number n, returns the square of n'''\u001b[0m\n\u001b[0m       ^\u001b[0m\n\u001b[0;31mSyntaxError\u001b[0m\u001b[0;31m:\u001b[0m invalid syntax\n"
     ]
    }
   ],
   "source": [
    "'''Docstrings, short for documentation strings, are a key tool for documenting Python code. They are string literals that appear right after the definition of a function, method, class, or module12.\n",
    "\n",
    "The purpose of docstrings is to provide a convenient way of associating documentation with Python modules, functions, classes, and methods. Unlike conventional source code comments, the docstring should describe what the function does, not how\n",
    "def square(n):\n",
    "    '''Takes in a number n, returns the square of n'''\n",
    "    return n**2\n",
    "In this example, the string literal '''Takes in a number n, returns the square of n''' is the docstring of the function square().\n",
    "\n",
    "You can access these docstrings using the __doc__ attribute\n",
    "print(square.__doc__)\n",
    "This will output: Takes in a number n, returns the square of n '''"
   ]
  },
  {
   "cell_type": "code",
   "execution_count": 26,
   "id": "0204cbbc-0fa2-40d6-a31c-d71c42230fe0",
   "metadata": {},
   "outputs": [],
   "source": [
    "#2Describe some best practices for naming functions and variables in Python, including naming conventions and guidelines"
   ]
  },
  {
   "cell_type": "code",
   "execution_count": null,
   "id": "006751e1-4cf3-4a06-96f2-d782a6901559",
   "metadata": {},
   "outputs": [],
   "source": [
    "'''Sure, here are some best practices for naming functions and variables in Python:\n",
    "\n",
    "1. **General Python Naming Conventions**:\n",
    "   - Names are case-sensitive¹.\n",
    "   - Names cannot start with a digit.\n",
    "   - Names can contain letters, numbers, and underscores.\n",
    "   - Never use characters ‘l’ (lowercase letter el), ‘O’ (uppercase letter oh), or ‘I’ (uppercase letter eye) as single-character variable names.\n",
    "   - Reserved words in Python cannot be used as variable names¹.\n",
    "\n",
    "2. **Python Programming Naming Styles**:\n",
    "   - **Snake Case**: All words lower case separated by underscores. This is primarily used for function and variable names. Example: `user_name`, `my_function`.\n",
    "   - **Pascal Case**: The first letter of each word is capitalized. This is used for class names in Python. Example: `ClassName`, `MyClass`.\n",
    "   - **Camel Case**: First letter of each word is capitalized except the first word. This is not commonly used in Python. Example: `myVariable`, `isInstance`.\n",
    "   - **Upper Case with Underscores**: All letters are upper case and words are separated by underscores. This is used for constants in Python. Example: `PI`, `MAX_OVERFLOW`.\n",
    "\n",
    "3. **Descriptive Names**: Choose descriptive names that convey the purpose or meaning of the variable or function⁴. For example, `num_students`, `calculate_average`.\n",
    "\n",
    "4. **Global Variable Naming Conventions**: In Python, a variable declared outside of a function or a block of code is referred to as a global variable\n",
    "\n",
    "By sticking to these naming conventions, your Python code will be more readable, maintainable, and in line with community standards.,,,\n"
   ]
  }
 ],
 "metadata": {
  "kernelspec": {
   "display_name": "Python 3 (ipykernel)",
   "language": "python",
   "name": "python3"
  },
  "language_info": {
   "codemirror_mode": {
    "name": "ipython",
    "version": 3
   },
   "file_extension": ".py",
   "mimetype": "text/x-python",
   "name": "python",
   "nbconvert_exporter": "python",
   "pygments_lexer": "ipython3",
   "version": "3.10.8"
  }
 },
 "nbformat": 4,
 "nbformat_minor": 5
}
